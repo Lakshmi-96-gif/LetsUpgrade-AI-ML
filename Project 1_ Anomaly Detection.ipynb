{
 "cells": [
  {
   "cell_type": "code",
   "execution_count": 1,
   "metadata": {},
   "outputs": [],
   "source": [
    "import os\n",
    "import sys\n",
    "import numpy as np\n",
    "import pandas as pd\n",
    "from sklearn.model_selection import train_test_split\n",
    "from scipy.io import loadmat"
   ]
  },
  {
   "cell_type": "code",
   "execution_count": 2,
   "metadata": {},
   "outputs": [
    {
     "name": "stderr",
     "output_type": "stream",
     "text": [
      "C:\\ProgramData\\Anaconda3\\lib\\site-packages\\sklearn\\utils\\deprecation.py:143: FutureWarning: The sklearn.utils.testing module is  deprecated in version 0.22 and will be removed in version 0.24. The corresponding classes / functions should instead be imported from sklearn.utils. Anything that cannot be imported from sklearn.utils is now part of the private API.\n",
      "  warnings.warn(message, FutureWarning)\n"
     ]
    }
   ],
   "source": [
    "from pyod.models.pca import PCA\n",
    "from pyod.models.mcd import MCD\n",
    "from pyod.models.ocsvm import OCSVM\n",
    "from pyod.models.lof import LOF\n",
    "from pyod.models.cblof import CBLOF\n",
    "from pyod.models.knn import KNN\n",
    "from pyod.models.hbos import HBOS\n",
    "from pyod.models.abod import ABOD\n",
    "from pyod.models.iforest import IForest\n",
    "from pyod.models.feature_bagging import FeatureBagging\n"
   ]
  },
  {
   "cell_type": "markdown",
   "metadata": {},
   "source": [
    "# Import Metrics Packages"
   ]
  },
  {
   "cell_type": "code",
   "execution_count": 3,
   "metadata": {},
   "outputs": [],
   "source": [
    "from pyod.utils.utility import standardizer\n",
    "from pyod.utils.utility import precision_n_scores\n",
    "from sklearn.metrics import roc_auc_score"
   ]
  },
  {
   "cell_type": "markdown",
   "metadata": {},
   "source": [
    "# Define data file and Read X & Y"
   ]
  },
  {
   "cell_type": "code",
   "execution_count": 10,
   "metadata": {},
   "outputs": [],
   "source": [
    "mat_file_list=['arrhythmia.mat','cardio.mat','glass.mat','ionosphere.mat','letter.mat','lympho.mat','mnist.mat','musk.mat','optdigits.mat','pendigits.mat','pima.mat','satellite.mat','satimage-2.mat','shuttle.mat','vertebral.mat','vowels.mat','wbc.mat']"
   ]
  },
  {
   "cell_type": "markdown",
   "metadata": {},
   "source": [
    "# How to load Mat file"
   ]
  },
  {
   "cell_type": "code",
   "execution_count": 14,
   "metadata": {},
   "outputs": [],
   "source": [
    "df_columns=['Data','#samples','#Dimensions','Outlier','Percen','ABOD','CBLOF','FB','HBOS','IForest','KNN','LOF','MCD','OCSVM','PCA']\n"
   ]
  },
  {
   "cell_type": "code",
   "execution_count": 15,
   "metadata": {},
   "outputs": [
    {
     "data": {
      "text/html": [
       "<div>\n",
       "<style scoped>\n",
       "    .dataframe tbody tr th:only-of-type {\n",
       "        vertical-align: middle;\n",
       "    }\n",
       "\n",
       "    .dataframe tbody tr th {\n",
       "        vertical-align: top;\n",
       "    }\n",
       "\n",
       "    .dataframe thead th {\n",
       "        text-align: right;\n",
       "    }\n",
       "</style>\n",
       "<table border=\"1\" class=\"dataframe\">\n",
       "  <thead>\n",
       "    <tr style=\"text-align: right;\">\n",
       "      <th></th>\n",
       "      <th>Data</th>\n",
       "      <th>#samples</th>\n",
       "      <th>#Dimensions</th>\n",
       "      <th>Outlier</th>\n",
       "      <th>Percen</th>\n",
       "      <th>ABOD</th>\n",
       "      <th>CBLOF</th>\n",
       "      <th>FB</th>\n",
       "      <th>HBOS</th>\n",
       "      <th>IForest</th>\n",
       "      <th>KNN</th>\n",
       "      <th>LOF</th>\n",
       "      <th>MCD</th>\n",
       "      <th>OCSVM</th>\n",
       "      <th>PCA</th>\n",
       "    </tr>\n",
       "  </thead>\n",
       "  <tbody>\n",
       "  </tbody>\n",
       "</table>\n",
       "</div>"
      ],
      "text/plain": [
       "Empty DataFrame\n",
       "Columns: [Data, #samples, #Dimensions, Outlier, Percen, ABOD, CBLOF, FB, HBOS, IForest, KNN, LOF, MCD, OCSVM, PCA]\n",
       "Index: []"
      ]
     },
     "execution_count": 15,
     "metadata": {},
     "output_type": "execute_result"
    }
   ],
   "source": [
    "roc_df = pd.DataFrame(columns=df_columns)\n",
    "roc_df"
   ]
  },
  {
   "cell_type": "code",
   "execution_count": 16,
   "metadata": {},
   "outputs": [
    {
     "data": {
      "text/html": [
       "<div>\n",
       "<style scoped>\n",
       "    .dataframe tbody tr th:only-of-type {\n",
       "        vertical-align: middle;\n",
       "    }\n",
       "\n",
       "    .dataframe tbody tr th {\n",
       "        vertical-align: top;\n",
       "    }\n",
       "\n",
       "    .dataframe thead th {\n",
       "        text-align: right;\n",
       "    }\n",
       "</style>\n",
       "<table border=\"1\" class=\"dataframe\">\n",
       "  <thead>\n",
       "    <tr style=\"text-align: right;\">\n",
       "      <th></th>\n",
       "      <th>Data</th>\n",
       "      <th>#samples</th>\n",
       "      <th>#Dimensions</th>\n",
       "      <th>Outlier</th>\n",
       "      <th>Percen</th>\n",
       "      <th>ABOD</th>\n",
       "      <th>CBLOF</th>\n",
       "      <th>FB</th>\n",
       "      <th>HBOS</th>\n",
       "      <th>IForest</th>\n",
       "      <th>KNN</th>\n",
       "      <th>LOF</th>\n",
       "      <th>MCD</th>\n",
       "      <th>OCSVM</th>\n",
       "      <th>PCA</th>\n",
       "    </tr>\n",
       "  </thead>\n",
       "  <tbody>\n",
       "  </tbody>\n",
       "</table>\n",
       "</div>"
      ],
      "text/plain": [
       "Empty DataFrame\n",
       "Columns: [Data, #samples, #Dimensions, Outlier, Percen, ABOD, CBLOF, FB, HBOS, IForest, KNN, LOF, MCD, OCSVM, PCA]\n",
       "Index: []"
      ]
     },
     "execution_count": 16,
     "metadata": {},
     "output_type": "execute_result"
    }
   ],
   "source": [
    "prn_df = pd.DataFrame(columns=df_columns)\n",
    "prn_df\n"
   ]
  },
  {
   "cell_type": "code",
   "execution_count": 17,
   "metadata": {},
   "outputs": [
    {
     "data": {
      "text/html": [
       "<div>\n",
       "<style scoped>\n",
       "    .dataframe tbody tr th:only-of-type {\n",
       "        vertical-align: middle;\n",
       "    }\n",
       "\n",
       "    .dataframe tbody tr th {\n",
       "        vertical-align: top;\n",
       "    }\n",
       "\n",
       "    .dataframe thead th {\n",
       "        text-align: right;\n",
       "    }\n",
       "</style>\n",
       "<table border=\"1\" class=\"dataframe\">\n",
       "  <thead>\n",
       "    <tr style=\"text-align: right;\">\n",
       "      <th></th>\n",
       "      <th>Data</th>\n",
       "      <th>#samples</th>\n",
       "      <th>#Dimensions</th>\n",
       "      <th>Outlier</th>\n",
       "      <th>Percen</th>\n",
       "      <th>ABOD</th>\n",
       "      <th>CBLOF</th>\n",
       "      <th>FB</th>\n",
       "      <th>HBOS</th>\n",
       "      <th>IForest</th>\n",
       "      <th>KNN</th>\n",
       "      <th>LOF</th>\n",
       "      <th>MCD</th>\n",
       "      <th>OCSVM</th>\n",
       "      <th>PCA</th>\n",
       "    </tr>\n",
       "  </thead>\n",
       "  <tbody>\n",
       "  </tbody>\n",
       "</table>\n",
       "</div>"
      ],
      "text/plain": [
       "Empty DataFrame\n",
       "Columns: [Data, #samples, #Dimensions, Outlier, Percen, ABOD, CBLOF, FB, HBOS, IForest, KNN, LOF, MCD, OCSVM, PCA]\n",
       "Index: []"
      ]
     },
     "execution_count": 17,
     "metadata": {},
     "output_type": "execute_result"
    }
   ],
   "source": [
    "time_df = pd.DataFrame(columns=df_columns)\n",
    "time_df"
   ]
  },
  {
   "cell_type": "code",
   "execution_count": 7,
   "metadata": {},
   "outputs": [
    {
     "data": {
      "text/plain": [
       "{'__header__': b'MATLAB 5.0 MAT-file, written by Octave 3.8.0, 2014-12-18 10:48:09 UTC',\n",
       " '__version__': '1.0',\n",
       " '__globals__': [],\n",
       " 'X': array([[ 0.00491231,  0.69319077, -0.20364049, ...,  0.23149795,\n",
       "         -0.28978574, -0.49329397],\n",
       "        [ 0.11072935, -0.07990259, -0.20364049, ...,  0.09356344,\n",
       "         -0.25638541, -0.49329397],\n",
       "        [ 0.21654639, -0.27244466, -0.20364049, ...,  0.02459619,\n",
       "         -0.25638541,  1.14001753],\n",
       "        ...,\n",
       "        [-0.41835583, -0.91998844, -0.16463485, ..., -1.49268341,\n",
       "          0.24461959, -0.49329397],\n",
       "        [-0.41835583, -0.91998844, -0.15093411, ..., -1.42371616,\n",
       "          0.14441859, -0.49329397],\n",
       "        [-0.41835583, -0.91998844, -0.20364049, ..., -1.28578165,\n",
       "          3.58465295, -0.49329397]]),\n",
       " 'y': array([[0.],\n",
       "        [0.],\n",
       "        [0.],\n",
       "        ...,\n",
       "        [1.],\n",
       "        [1.],\n",
       "        [1.]])}"
      ]
     },
     "execution_count": 7,
     "metadata": {},
     "output_type": "execute_result"
    }
   ],
   "source": [
    "data=loadmat('C:/Users/PC/Documents/Python/Anamoly_detec_data/cardio.mat')\n",
    "data"
   ]
  },
  {
   "cell_type": "code",
   "execution_count": null,
   "metadata": {},
   "outputs": [],
   "source": []
  },
  {
   "cell_type": "code",
   "execution_count": null,
   "metadata": {},
   "outputs": [],
   "source": []
  },
  {
   "cell_type": "code",
   "execution_count": 8,
   "metadata": {},
   "outputs": [
    {
     "data": {
      "text/plain": [
       "5"
      ]
     },
     "execution_count": 8,
     "metadata": {},
     "output_type": "execute_result"
    }
   ],
   "source": [
    "len(data)"
   ]
  },
  {
   "cell_type": "code",
   "execution_count": 13,
   "metadata": {},
   "outputs": [
    {
     "data": {
      "text/plain": [
       "<function dict.keys>"
      ]
     },
     "execution_count": 13,
     "metadata": {},
     "output_type": "execute_result"
    }
   ],
   "source": [
    "data.keys"
   ]
  },
  {
   "cell_type": "code",
   "execution_count": 14,
   "metadata": {},
   "outputs": [
    {
     "data": {
      "text/plain": [
       "<function dict.values>"
      ]
     },
     "execution_count": 14,
     "metadata": {},
     "output_type": "execute_result"
    }
   ],
   "source": [
    "data.values"
   ]
  },
  {
   "cell_type": "markdown",
   "metadata": {},
   "source": [
    "# Input Feature shape in Mat file"
   ]
  },
  {
   "cell_type": "code",
   "execution_count": 16,
   "metadata": {},
   "outputs": [
    {
     "data": {
      "text/plain": [
       "(numpy.ndarray, (1831, 21))"
      ]
     },
     "execution_count": 16,
     "metadata": {},
     "output_type": "execute_result"
    }
   ],
   "source": [
    "type(data['X']),data['X'].shape"
   ]
  },
  {
   "cell_type": "markdown",
   "metadata": {},
   "source": [
    "# Output Feature shape in Mat file"
   ]
  },
  {
   "cell_type": "code",
   "execution_count": 17,
   "metadata": {},
   "outputs": [
    {
     "data": {
      "text/plain": [
       "(numpy.ndarray, (1831, 1))"
      ]
     },
     "execution_count": 17,
     "metadata": {},
     "output_type": "execute_result"
    }
   ],
   "source": [
    "type(data['y']),data['y'].shape"
   ]
  },
  {
   "cell_type": "markdown",
   "metadata": {},
   "source": [
    "# Exploring all data files"
   ]
  },
  {
   "cell_type": "code",
   "execution_count": 20,
   "metadata": {},
   "outputs": [
    {
     "name": "stdout",
     "output_type": "stream",
     "text": [
      "\n",
      "... Processing arrhythmia.mat ...\n",
      "Angle-based Outlier Detector (ABOD) ROC:0.7687, precision @ rank n:0.3571, execution time: 0.3222s\n",
      "Cluster-based Local Outlier Factor ROC:0.7684, precision @ rank n:0.4643, execution time: 0.1711s\n"
     ]
    },
    {
     "name": "stderr",
     "output_type": "stream",
     "text": [
      "C:\\ProgramData\\Anaconda3\\lib\\site-packages\\sklearn\\cluster\\_kmeans.py:973: FutureWarning: 'n_jobs' was deprecated in version 0.23 and will be removed in 0.25.\n",
      "  warnings.warn(\"'n_jobs' was deprecated in version 0.23 and will be\"\n"
     ]
    },
    {
     "name": "stdout",
     "output_type": "stream",
     "text": [
      "Feature Bagging ROC:0.7799, precision @ rank n:0.5, execution time: 0.8646s\n",
      "Histogram-base Outlier Detection (HBOS) ROC:0.8511, precision @ rank n:0.5714, execution time: 0.1351s\n",
      "Isolation Forest ROC:0.8478, precision @ rank n:0.5357, execution time: 0.7955s\n",
      "K Nearest Neighbors (KNN) ROC:0.782, precision @ rank n:0.5, execution time: 0.2632s\n",
      "Local Outlier Factor (LOF) ROC:0.7787, precision @ rank n:0.4643, execution time: 0.1071s\n"
     ]
    },
    {
     "name": "stderr",
     "output_type": "stream",
     "text": [
      "C:\\ProgramData\\Anaconda3\\lib\\site-packages\\sklearn\\covariance\\_robust_covariance.py:647: UserWarning: The covariance matrix associated to your dataset is not full rank\n",
      "  warnings.warn(\"The covariance matrix associated to your dataset \"\n"
     ]
    },
    {
     "name": "stdout",
     "output_type": "stream",
     "text": [
      "Minimum Covariance Determinant (MCD) ROC:0.8228, precision @ rank n:0.4286, execution time: 1.2618s\n",
      "One-class SVM (OCSVM) ROC:0.7986, precision @ rank n:0.5, execution time: 0.056s\n",
      "Principal Component Analysis (PCA) ROC:0.8, precision @ rank n:0.5, execution time: 0.1091s\n",
      "\n",
      "... Processing cardio.mat ...\n",
      "Angle-based Outlier Detector (ABOD) ROC:0.5763, precision @ rank n:0.1875, execution time: 1.0167s\n"
     ]
    },
    {
     "name": "stderr",
     "output_type": "stream",
     "text": [
      "C:\\ProgramData\\Anaconda3\\lib\\site-packages\\sklearn\\cluster\\_kmeans.py:973: FutureWarning: 'n_jobs' was deprecated in version 0.23 and will be removed in 0.25.\n",
      "  warnings.warn(\"'n_jobs' was deprecated in version 0.23 and will be\"\n"
     ]
    },
    {
     "name": "stdout",
     "output_type": "stream",
     "text": [
      "Cluster-based Local Outlier Factor ROC:0.8221, precision @ rank n:0.4844, execution time: 0.3442s\n",
      "Feature Bagging ROC:0.4879, precision @ rank n:0.1406, execution time: 1.3549s\n",
      "Histogram-base Outlier Detection (HBOS) ROC:0.8453, precision @ rank n:0.4688, execution time: 0.014s\n",
      "Isolation Forest ROC:0.9316, precision @ rank n:0.4531, execution time: 0.8316s\n",
      "K Nearest Neighbors (KNN) ROC:0.6959, precision @ rank n:0.2812, execution time: 0.2809s\n",
      "Local Outlier Factor (LOF) ROC:0.4715, precision @ rank n:0.125, execution time: 0.1601s\n"
     ]
    },
    {
     "name": "stderr",
     "output_type": "stream",
     "text": [
      "C:\\ProgramData\\Anaconda3\\lib\\site-packages\\sklearn\\covariance\\_robust_covariance.py:647: UserWarning: The covariance matrix associated to your dataset is not full rank\n",
      "  warnings.warn(\"The covariance matrix associated to your dataset \"\n"
     ]
    },
    {
     "name": "stdout",
     "output_type": "stream",
     "text": [
      "Minimum Covariance Determinant (MCD) ROC:0.8781, precision @ rank n:0.3906, execution time: 0.8946s\n",
      "One-class SVM (OCSVM) ROC:0.9507, precision @ rank n:0.5938, execution time: 0.1271s\n",
      "Principal Component Analysis (PCA) ROC:0.9638, precision @ rank n:0.6875, execution time: 0.006s\n",
      "\n",
      "... Processing glass.mat ...\n",
      "Angle-based Outlier Detector (ABOD) ROC:0.7104, precision @ rank n:0.25, execution time: 0.1161s\n",
      "Cluster-based Local Outlier Factor ROC:0.8506, precision @ rank n:0.25, execution time: 0.0841s\n",
      "Feature Bagging ROC:0.7043, precision @ rank n:0.25, execution time: 0.067s\n",
      "Histogram-base Outlier Detection (HBOS) ROC:0.6524, precision @ rank n:0.0, execution time: 0.006s\n"
     ]
    },
    {
     "name": "stderr",
     "output_type": "stream",
     "text": [
      "C:\\ProgramData\\Anaconda3\\lib\\site-packages\\sklearn\\cluster\\_kmeans.py:973: FutureWarning: 'n_jobs' was deprecated in version 0.23 and will be removed in 0.25.\n",
      "  warnings.warn(\"'n_jobs' was deprecated in version 0.23 and will be\"\n"
     ]
    },
    {
     "name": "stdout",
     "output_type": "stream",
     "text": [
      "Isolation Forest ROC:0.7195, precision @ rank n:0.25, execution time: 0.7305s\n",
      "K Nearest Neighbors (KNN) ROC:0.7805, precision @ rank n:0.25, execution time: 0.018s\n",
      "Local Outlier Factor (LOF) ROC:0.7774, precision @ rank n:0.25, execution time: 0.006s\n",
      "Minimum Covariance Determinant (MCD) ROC:0.7165, precision @ rank n:0.0, execution time: 0.07s\n",
      "One-class SVM (OCSVM) ROC:0.6189, precision @ rank n:0.25, execution time: 0.003s\n",
      "Principal Component Analysis (PCA) ROC:0.622, precision @ rank n:0.25, execution time: 0.003s\n",
      "\n",
      "... Processing ionosphere.mat ...\n",
      "Angle-based Outlier Detector (ABOD) ROC:0.9004, precision @ rank n:0.8214, execution time: 0.1921s\n",
      "Cluster-based Local Outlier Factor ROC:0.8952, precision @ rank n:0.8036, execution time: 0.0861s\n"
     ]
    },
    {
     "name": "stderr",
     "output_type": "stream",
     "text": [
      "C:\\ProgramData\\Anaconda3\\lib\\site-packages\\sklearn\\cluster\\_kmeans.py:973: FutureWarning: 'n_jobs' was deprecated in version 0.23 and will be removed in 0.25.\n",
      "  warnings.warn(\"'n_jobs' was deprecated in version 0.23 and will be\"\n"
     ]
    },
    {
     "name": "stdout",
     "output_type": "stream",
     "text": [
      "Feature Bagging ROC:0.8933, precision @ rank n:0.75, execution time: 0.1201s\n",
      "Histogram-base Outlier Detection (HBOS) ROC:0.5195, precision @ rank n:0.3393, execution time: 0.027s\n",
      "Isolation Forest ROC:0.8294, precision @ rank n:0.6607, execution time: 0.6204s\n",
      "K Nearest Neighbors (KNN) ROC:0.9134, precision @ rank n:0.8393, execution time: 0.033s\n",
      "Local Outlier Factor (LOF) ROC:0.8989, precision @ rank n:0.75, execution time: 0.011s\n",
      "Minimum Covariance Determinant (MCD) ROC:0.9399, precision @ rank n:0.8571, execution time: 0.1071s\n",
      "One-class SVM (OCSVM) ROC:0.8372, precision @ rank n:0.7143, execution time: 0.008s\n",
      "Principal Component Analysis (PCA) ROC:0.7971, precision @ rank n:0.5893, execution time: 0.004s\n",
      "\n",
      "... Processing letter.mat ...\n",
      "Angle-based Outlier Detector (ABOD) ROC:0.8465, precision @ rank n:0.275, execution time: 0.8356s\n"
     ]
    },
    {
     "name": "stderr",
     "output_type": "stream",
     "text": [
      "C:\\ProgramData\\Anaconda3\\lib\\site-packages\\sklearn\\cluster\\_kmeans.py:973: FutureWarning: 'n_jobs' was deprecated in version 0.23 and will be removed in 0.25.\n",
      "  warnings.warn(\"'n_jobs' was deprecated in version 0.23 and will be\"\n"
     ]
    },
    {
     "name": "stdout",
     "output_type": "stream",
     "text": [
      "Cluster-based Local Outlier Factor ROC:0.7423, precision @ rank n:0.175, execution time: 0.3126s\n",
      "Feature Bagging ROC:0.866, precision @ rank n:0.4, execution time: 1.3129s\n",
      "Histogram-base Outlier Detection (HBOS) ROC:0.5728, precision @ rank n:0.125, execution time: 0.021s\n",
      "Isolation Forest ROC:0.5836, precision @ rank n:0.05, execution time: 0.7935s\n",
      "K Nearest Neighbors (KNN) ROC:0.845, precision @ rank n:0.3, execution time: 0.2652s\n",
      "Local Outlier Factor (LOF) ROC:0.8409, precision @ rank n:0.325, execution time: 0.1461s\n",
      "Minimum Covariance Determinant (MCD) ROC:0.7499, precision @ rank n:0.075, execution time: 1.9843s\n",
      "One-class SVM (OCSVM) ROC:0.5744, precision @ rank n:0.1, execution time: 0.1281s\n",
      "Principal Component Analysis (PCA) ROC:0.48, precision @ rank n:0.05, execution time: 0.009s\n",
      "\n",
      "... Processing lympho.mat ...\n",
      "Angle-based Outlier Detector (ABOD) ROC:0.9382, precision @ rank n:0.4, execution time: 0.067s\n",
      "Cluster-based Local Outlier Factor ROC:0.9709, precision @ rank n:0.6, execution time: 0.0901s\n",
      "Feature Bagging ROC:0.9673, precision @ rank n:0.6, execution time: 0.056s\n",
      "Histogram-base Outlier Detection (HBOS) ROC:0.9964, precision @ rank n:0.8, execution time: 0.009s\n"
     ]
    },
    {
     "name": "stderr",
     "output_type": "stream",
     "text": [
      "C:\\ProgramData\\Anaconda3\\lib\\site-packages\\sklearn\\cluster\\_kmeans.py:973: FutureWarning: 'n_jobs' was deprecated in version 0.23 and will be removed in 0.25.\n",
      "  warnings.warn(\"'n_jobs' was deprecated in version 0.23 and will be\"\n"
     ]
    },
    {
     "name": "stdout",
     "output_type": "stream",
     "text": [
      "Isolation Forest ROC:0.9855, precision @ rank n:0.6, execution time: 0.5794s\n",
      "K Nearest Neighbors (KNN) ROC:0.9636, precision @ rank n:0.6, execution time: 0.013s\n",
      "Local Outlier Factor (LOF) ROC:0.9636, precision @ rank n:0.6, execution time: 0.005s\n",
      "Minimum Covariance Determinant (MCD) ROC:0.9164, precision @ rank n:0.6, execution time: 0.068s\n",
      "One-class SVM (OCSVM) ROC:0.9636, precision @ rank n:0.6, execution time: 0.003s\n",
      "Principal Component Analysis (PCA) ROC:0.9818, precision @ rank n:0.8, execution time: 0.003s\n",
      "\n",
      "... Processing mnist.mat ...\n"
     ]
    },
    {
     "name": "stderr",
     "output_type": "stream",
     "text": [
      "C:\\ProgramData\\Anaconda3\\lib\\site-packages\\sklearn\\covariance\\_robust_covariance.py:166: RuntimeWarning: Determinant has increased; this should not happen: log(det) > log(previous_det) (-193.182891520776820 > -343.548589776441531). You may want to try with a higher value of support_fraction (current value: 0.614).\n",
      "  warnings.warn(\"Determinant has increased; this should not happen: \"\n",
      "C:\\ProgramData\\Anaconda3\\lib\\site-packages\\sklearn\\covariance\\_robust_covariance.py:166: RuntimeWarning: Determinant has increased; this should not happen: log(det) > log(previous_det) (-374.445549442060269 > -377.667903659146646). You may want to try with a higher value of support_fraction (current value: 0.614).\n",
      "  warnings.warn(\"Determinant has increased; this should not happen: \"\n",
      "C:\\ProgramData\\Anaconda3\\lib\\site-packages\\sklearn\\covariance\\_robust_covariance.py:166: RuntimeWarning: Determinant has increased; this should not happen: log(det) > log(previous_det) (-376.348692693502812 > -377.273934180482399). You may want to try with a higher value of support_fraction (current value: 0.614).\n",
      "  warnings.warn(\"Determinant has increased; this should not happen: \"\n",
      "C:\\ProgramData\\Anaconda3\\lib\\site-packages\\sklearn\\covariance\\_robust_covariance.py:166: RuntimeWarning: Determinant has increased; this should not happen: log(det) > log(previous_det) (-376.285875882952155 > -379.078703785191522). You may want to try with a higher value of support_fraction (current value: 0.614).\n",
      "  warnings.warn(\"Determinant has increased; this should not happen: \"\n"
     ]
    },
    {
     "name": "stdout",
     "output_type": "stream",
     "text": [
      "Angle-based Outlier Detector (ABOD) ROC:0.7813, precision @ rank n:0.3562, execution time: 12.5618s\n"
     ]
    },
    {
     "name": "stderr",
     "output_type": "stream",
     "text": [
      "C:\\ProgramData\\Anaconda3\\lib\\site-packages\\sklearn\\cluster\\_kmeans.py:973: FutureWarning: 'n_jobs' was deprecated in version 0.23 and will be removed in 0.25.\n",
      "  warnings.warn(\"'n_jobs' was deprecated in version 0.23 and will be\"\n"
     ]
    },
    {
     "name": "stdout",
     "output_type": "stream",
     "text": [
      "Cluster-based Local Outlier Factor ROC:0.8447, precision @ rank n:0.4007, execution time: 1.1648s\n",
      "Feature Bagging ROC:0.7259, precision @ rank n:0.3664, execution time: 84.5588s\n",
      "Histogram-base Outlier Detection (HBOS) ROC:0.5675, precision @ rank n:0.1199, execution time: 0.1291s\n",
      "Isolation Forest ROC:0.7813, precision @ rank n:0.3116, execution time: 3.7695s\n",
      "K Nearest Neighbors (KNN) ROC:0.8409, precision @ rank n:0.4144, execution time: 10.8962s\n",
      "Local Outlier Factor (LOF) ROC:0.7085, precision @ rank n:0.339, execution time: 9.4743s\n"
     ]
    },
    {
     "name": "stderr",
     "output_type": "stream",
     "text": [
      "C:\\ProgramData\\Anaconda3\\lib\\site-packages\\sklearn\\covariance\\_robust_covariance.py:647: UserWarning: The covariance matrix associated to your dataset is not full rank\n",
      "  warnings.warn(\"The covariance matrix associated to your dataset \"\n"
     ]
    },
    {
     "name": "stdout",
     "output_type": "stream",
     "text": [
      "Minimum Covariance Determinant (MCD) ROC:0.863, precision @ rank n:0.3973, execution time: 5.1234s\n",
      "One-class SVM (OCSVM) ROC:0.8417, precision @ rank n:0.3801, execution time: 6.6384s\n",
      "Principal Component Analysis (PCA) ROC:0.8396, precision @ rank n:0.3767, execution time: 0.1991s\n",
      "\n",
      "... Processing musk.mat ...\n",
      "Angle-based Outlier Detector (ABOD) ROC:0.0809, precision @ rank n:0.0333, execution time: 3.6764s\n"
     ]
    },
    {
     "name": "stderr",
     "output_type": "stream",
     "text": [
      "C:\\ProgramData\\Anaconda3\\lib\\site-packages\\sklearn\\cluster\\_kmeans.py:973: FutureWarning: 'n_jobs' was deprecated in version 0.23 and will be removed in 0.25.\n",
      "  warnings.warn(\"'n_jobs' was deprecated in version 0.23 and will be\"\n"
     ]
    },
    {
     "name": "stdout",
     "output_type": "stream",
     "text": [
      "Cluster-based Local Outlier Factor ROC:1.0, precision @ rank n:1.0, execution time: 0.4003s\n",
      "Feature Bagging ROC:0.5228, precision @ rank n:0.1667, execution time: 18.7774s\n",
      "Histogram-base Outlier Detection (HBOS) ROC:0.9999, precision @ rank n:0.9667, execution time: 0.1191s\n",
      "Isolation Forest ROC:0.9992, precision @ rank n:0.9, execution time: 2.0474s\n",
      "K Nearest Neighbors (KNN) ROC:0.7348, precision @ rank n:0.2333, execution time: 2.6658s\n",
      "Local Outlier Factor (LOF) ROC:0.5323, precision @ rank n:0.1333, execution time: 2.3345s\n",
      "Minimum Covariance Determinant (MCD) ROC:1.0, precision @ rank n:0.9667, execution time: 22.8622s\n",
      "One-class SVM (OCSVM) ROC:1.0, precision @ rank n:1.0, execution time: 1.6231s\n",
      "Principal Component Analysis (PCA) ROC:1.0, precision @ rank n:1.0, execution time: 0.2091s\n",
      "\n",
      "... Processing optdigits.mat ...\n",
      "Angle-based Outlier Detector (ABOD) ROC:0.4428, precision @ rank n:0.0161, execution time: 4.8232s\n"
     ]
    },
    {
     "name": "stderr",
     "output_type": "stream",
     "text": [
      "C:\\ProgramData\\Anaconda3\\lib\\site-packages\\sklearn\\cluster\\_kmeans.py:973: FutureWarning: 'n_jobs' was deprecated in version 0.23 and will be removed in 0.25.\n",
      "  warnings.warn(\"'n_jobs' was deprecated in version 0.23 and will be\"\n"
     ]
    },
    {
     "name": "stdout",
     "output_type": "stream",
     "text": [
      "Cluster-based Local Outlier Factor ROC:0.7852, precision @ rank n:0.0, execution time: 0.6004s\n",
      "Feature Bagging ROC:0.4641, precision @ rank n:0.0484, execution time: 21.099s\n",
      "Histogram-base Outlier Detection (HBOS) ROC:0.8822, precision @ rank n:0.2581, execution time: 0.056s\n",
      "Isolation Forest ROC:0.5442, precision @ rank n:0.0161, execution time: 1.5911s\n",
      "K Nearest Neighbors (KNN) ROC:0.3824, precision @ rank n:0.0, execution time: 2.8839s\n",
      "Local Outlier Factor (LOF) ROC:0.4584, precision @ rank n:0.0484, execution time: 2.4856s\n"
     ]
    },
    {
     "name": "stderr",
     "output_type": "stream",
     "text": [
      "C:\\ProgramData\\Anaconda3\\lib\\site-packages\\sklearn\\covariance\\_robust_covariance.py:647: UserWarning: The covariance matrix associated to your dataset is not full rank\n",
      "  warnings.warn(\"The covariance matrix associated to your dataset \"\n"
     ]
    },
    {
     "name": "stdout",
     "output_type": "stream",
     "text": [
      "Minimum Covariance Determinant (MCD) ROC:0.3486, precision @ rank n:0.0, execution time: 2.1674s\n",
      "One-class SVM (OCSVM) ROC:0.4972, precision @ rank n:0.0, execution time: 2.0884s\n",
      "Principal Component Analysis (PCA) ROC:0.504, precision @ rank n:0.0, execution time: 0.062s\n",
      "\n",
      "... Processing pendigits.mat ...\n",
      "Angle-based Outlier Detector (ABOD) ROC:0.7008, precision @ rank n:0.0308, execution time: 3.5474s\n"
     ]
    },
    {
     "name": "stderr",
     "output_type": "stream",
     "text": [
      "C:\\ProgramData\\Anaconda3\\lib\\site-packages\\sklearn\\cluster\\_kmeans.py:973: FutureWarning: 'n_jobs' was deprecated in version 0.23 and will be removed in 0.25.\n",
      "  warnings.warn(\"'n_jobs' was deprecated in version 0.23 and will be\"\n"
     ]
    },
    {
     "name": "stdout",
     "output_type": "stream",
     "text": [
      "Cluster-based Local Outlier Factor ROC:0.9609, precision @ rank n:0.3077, execution time: 0.4293s\n",
      "Feature Bagging ROC:0.4687, precision @ rank n:0.0462, execution time: 8.6287s\n",
      "Histogram-base Outlier Detection (HBOS) ROC:0.9294, precision @ rank n:0.2615, execution time: 0.017s\n",
      "Isolation Forest ROC:0.9482, precision @ rank n:0.2615, execution time: 1.2068s\n",
      "K Nearest Neighbors (KNN) ROC:0.7602, precision @ rank n:0.0462, execution time: 1.3015s\n",
      "Local Outlier Factor (LOF) ROC:0.481, precision @ rank n:0.0462, execution time: 1.0357s\n",
      "Minimum Covariance Determinant (MCD) ROC:0.8271, precision @ rank n:0.0615, execution time: 4.2874s\n",
      "One-class SVM (OCSVM) ROC:0.93, precision @ rank n:0.2923, execution time: 1.7632s\n",
      "Principal Component Analysis (PCA) ROC:0.9332, precision @ rank n:0.3385, execution time: 0.014s\n",
      "\n",
      "... Processing pima.mat ...\n",
      "Angle-based Outlier Detector (ABOD) ROC:0.6757, precision @ rank n:0.5106, execution time: 0.4603s\n",
      "Cluster-based Local Outlier Factor ROC:0.684, precision @ rank n:0.4681, execution time: 0.1351s\n"
     ]
    },
    {
     "name": "stderr",
     "output_type": "stream",
     "text": [
      "C:\\ProgramData\\Anaconda3\\lib\\site-packages\\sklearn\\cluster\\_kmeans.py:973: FutureWarning: 'n_jobs' was deprecated in version 0.23 and will be removed in 0.25.\n",
      "  warnings.warn(\"'n_jobs' was deprecated in version 0.23 and will be\"\n"
     ]
    },
    {
     "name": "stdout",
     "output_type": "stream",
     "text": [
      "Feature Bagging ROC:0.6446, precision @ rank n:0.4468, execution time: 0.1791s\n",
      "Histogram-base Outlier Detection (HBOS) ROC:0.7169, precision @ rank n:0.5213, execution time: 0.006s\n",
      "Isolation Forest ROC:0.6777, precision @ rank n:0.4787, execution time: 0.6394s\n",
      "K Nearest Neighbors (KNN) ROC:0.7252, precision @ rank n:0.5106, execution time: 0.066s\n",
      "Local Outlier Factor (LOF) ROC:0.6604, precision @ rank n:0.4787, execution time: 0.018s\n",
      "Minimum Covariance Determinant (MCD) ROC:0.7047, precision @ rank n:0.4787, execution time: 0.0931s\n",
      "One-class SVM (OCSVM) ROC:0.6423, precision @ rank n:0.4574, execution time: 0.018s\n",
      "Principal Component Analysis (PCA) ROC:0.6639, precision @ rank n:0.5, execution time: 0.003s\n",
      "\n",
      "... Processing satellite.mat ...\n",
      "Angle-based Outlier Detector (ABOD) ROC:0.5681, precision @ rank n:0.3918, execution time: 4.4179s\n"
     ]
    },
    {
     "name": "stderr",
     "output_type": "stream",
     "text": [
      "C:\\ProgramData\\Anaconda3\\lib\\site-packages\\sklearn\\cluster\\_kmeans.py:973: FutureWarning: 'n_jobs' was deprecated in version 0.23 and will be removed in 0.25.\n",
      "  warnings.warn(\"'n_jobs' was deprecated in version 0.23 and will be\"\n"
     ]
    },
    {
     "name": "stdout",
     "output_type": "stream",
     "text": [
      "Cluster-based Local Outlier Factor ROC:0.7234, precision @ rank n:0.5574, execution time: 0.4533s\n",
      "Feature Bagging ROC:0.557, precision @ rank n:0.4051, execution time: 13.4209s\n",
      "Histogram-base Outlier Detection (HBOS) ROC:0.7393, precision @ rank n:0.5466, execution time: 0.034s\n",
      "Isolation Forest ROC:0.7094, precision @ rank n:0.578, execution time: 1.7602s\n",
      "K Nearest Neighbors (KNN) ROC:0.6781, precision @ rank n:0.4994, execution time: 1.8372s\n",
      "Local Outlier Factor (LOF) ROC:0.5551, precision @ rank n:0.4051, execution time: 1.8142s\n",
      "Minimum Covariance Determinant (MCD) ROC:0.792, precision @ rank n:0.6747, execution time: 4.526s\n",
      "One-class SVM (OCSVM) ROC:0.636, precision @ rank n:0.5224, execution time: 2.2205s\n",
      "Principal Component Analysis (PCA) ROC:0.5783, precision @ rank n:0.4559, execution time: 0.037s\n",
      "\n",
      "... Processing satimage-2.mat ...\n",
      "Angle-based Outlier Detector (ABOD) ROC:0.86, precision @ rank n:0.2593, execution time: 3.8626s\n"
     ]
    },
    {
     "name": "stderr",
     "output_type": "stream",
     "text": [
      "C:\\ProgramData\\Anaconda3\\lib\\site-packages\\sklearn\\cluster\\_kmeans.py:973: FutureWarning: 'n_jobs' was deprecated in version 0.23 and will be removed in 0.25.\n",
      "  warnings.warn(\"'n_jobs' was deprecated in version 0.23 and will be\"\n"
     ]
    },
    {
     "name": "stdout",
     "output_type": "stream",
     "text": [
      "Cluster-based Local Outlier Factor ROC:0.9987, precision @ rank n:0.8889, execution time: 0.4163s\n",
      "Feature Bagging ROC:0.4971, precision @ rank n:0.0741, execution time: 10.3208s\n",
      "Histogram-base Outlier Detection (HBOS) ROC:0.9837, precision @ rank n:0.5926, execution time: 0.033s\n",
      "Isolation Forest ROC:0.9973, precision @ rank n:0.8889, execution time: 1.3249s\n",
      "K Nearest Neighbors (KNN) ROC:0.9505, precision @ rank n:0.3704, execution time: 1.531s\n",
      "Local Outlier Factor (LOF) ROC:0.5006, precision @ rank n:0.0741, execution time: 1.1748s\n",
      "Minimum Covariance Determinant (MCD) ROC:0.9946, precision @ rank n:0.5185, execution time: 4.0167s\n",
      "One-class SVM (OCSVM) ROC:0.9976, precision @ rank n:0.9259, execution time: 1.7822s\n",
      "Principal Component Analysis (PCA) ROC:0.9841, precision @ rank n:0.8519, execution time: 0.029s\n",
      "\n",
      "... Processing shuttle.mat ...\n",
      "Angle-based Outlier Detector (ABOD) ROC:0.6186, precision @ rank n:0.1918, execution time: 37.9181s\n"
     ]
    },
    {
     "name": "stderr",
     "output_type": "stream",
     "text": [
      "C:\\ProgramData\\Anaconda3\\lib\\site-packages\\sklearn\\cluster\\_kmeans.py:973: FutureWarning: 'n_jobs' was deprecated in version 0.23 and will be removed in 0.25.\n",
      "  warnings.warn(\"'n_jobs' was deprecated in version 0.23 and will be\"\n"
     ]
    },
    {
     "name": "stdout",
     "output_type": "stream",
     "text": [
      "Cluster-based Local Outlier Factor ROC:0.6286, precision @ rank n:0.2336, execution time: 1.2378s\n",
      "Feature Bagging ROC:0.5211, precision @ rank n:0.111, execution time: 110.5943s\n",
      "Histogram-base Outlier Detection (HBOS) ROC:0.9851, precision @ rank n:0.9857, execution time: 0.036s\n",
      "Isolation Forest ROC:0.9972, precision @ rank n:0.9337, execution time: 5.6077s\n",
      "K Nearest Neighbors (KNN) ROC:0.645, precision @ rank n:0.2199, execution time: 20.1038s\n",
      "Local Outlier Factor (LOF) ROC:0.5347, precision @ rank n:0.1406, execution time: 26.1383s\n"
     ]
    },
    {
     "name": "stderr",
     "output_type": "stream",
     "text": [
      "C:\\ProgramData\\Anaconda3\\lib\\site-packages\\sklearn\\covariance\\_robust_covariance.py:166: RuntimeWarning: Determinant has increased; this should not happen: log(det) > log(previous_det) (-50.022992269211137 > -78.431565375323444). You may want to try with a higher value of support_fraction (current value: 0.503).\n",
      "  warnings.warn(\"Determinant has increased; this should not happen: \"\n",
      "C:\\ProgramData\\Anaconda3\\lib\\site-packages\\sklearn\\covariance\\_robust_covariance.py:166: RuntimeWarning: Determinant has increased; this should not happen: log(det) > log(previous_det) (-48.588090860495058 > -76.790130769673212). You may want to try with a higher value of support_fraction (current value: 0.503).\n",
      "  warnings.warn(\"Determinant has increased; this should not happen: \"\n",
      "C:\\ProgramData\\Anaconda3\\lib\\site-packages\\sklearn\\covariance\\_robust_covariance.py:166: RuntimeWarning: Determinant has increased; this should not happen: log(det) > log(previous_det) (-50.236579805298092 > -76.689297736522946). You may want to try with a higher value of support_fraction (current value: 0.503).\n",
      "  warnings.warn(\"Determinant has increased; this should not happen: \"\n",
      "C:\\ProgramData\\Anaconda3\\lib\\site-packages\\sklearn\\covariance\\_robust_covariance.py:166: RuntimeWarning: Determinant has increased; this should not happen: log(det) > log(previous_det) (-50.127165967938105 > -77.659161387432604). You may want to try with a higher value of support_fraction (current value: 0.501).\n",
      "  warnings.warn(\"Determinant has increased; this should not happen: \"\n",
      "C:\\ProgramData\\Anaconda3\\lib\\site-packages\\sklearn\\covariance\\_robust_covariance.py:166: RuntimeWarning: Determinant has increased; this should not happen: log(det) > log(previous_det) (-50.337315560576336 > -78.193487063766113). You may want to try with a higher value of support_fraction (current value: 0.501).\n",
      "  warnings.warn(\"Determinant has increased; this should not happen: \"\n",
      "C:\\ProgramData\\Anaconda3\\lib\\site-packages\\sklearn\\covariance\\_robust_covariance.py:166: RuntimeWarning: Determinant has increased; this should not happen: log(det) > log(previous_det) (-50.088727288180415 > -78.809674480698376). You may want to try with a higher value of support_fraction (current value: 0.501).\n",
      "  warnings.warn(\"Determinant has increased; this should not happen: \"\n",
      "C:\\ProgramData\\Anaconda3\\lib\\site-packages\\sklearn\\covariance\\_robust_covariance.py:166: RuntimeWarning: Determinant has increased; this should not happen: log(det) > log(previous_det) (-50.302430695318037 > -77.461638963900072). You may want to try with a higher value of support_fraction (current value: 0.501).\n",
      "  warnings.warn(\"Determinant has increased; this should not happen: \"\n",
      "C:\\ProgramData\\Anaconda3\\lib\\site-packages\\sklearn\\covariance\\_robust_covariance.py:166: RuntimeWarning: Determinant has increased; this should not happen: log(det) > log(previous_det) (-50.363558444578558 > -78.980228940677947). You may want to try with a higher value of support_fraction (current value: 0.501).\n",
      "  warnings.warn(\"Determinant has increased; this should not happen: \"\n",
      "C:\\ProgramData\\Anaconda3\\lib\\site-packages\\sklearn\\covariance\\_robust_covariance.py:166: RuntimeWarning: Determinant has increased; this should not happen: log(det) > log(previous_det) (-50.418573515593209 > -77.912131951705248). You may want to try with a higher value of support_fraction (current value: 0.501).\n",
      "  warnings.warn(\"Determinant has increased; this should not happen: \"\n",
      "C:\\ProgramData\\Anaconda3\\lib\\site-packages\\sklearn\\covariance\\_robust_covariance.py:166: RuntimeWarning: Determinant has increased; this should not happen: log(det) > log(previous_det) (-50.556584528454025 > -76.954575228494633). You may want to try with a higher value of support_fraction (current value: 0.501).\n",
      "  warnings.warn(\"Determinant has increased; this should not happen: \"\n",
      "C:\\ProgramData\\Anaconda3\\lib\\site-packages\\sklearn\\covariance\\_robust_covariance.py:166: RuntimeWarning: Determinant has increased; this should not happen: log(det) > log(previous_det) (-50.098891172944221 > -76.927657172622759). You may want to try with a higher value of support_fraction (current value: 0.501).\n",
      "  warnings.warn(\"Determinant has increased; this should not happen: \"\n",
      "C:\\ProgramData\\Anaconda3\\lib\\site-packages\\sklearn\\covariance\\_robust_covariance.py:166: RuntimeWarning: Determinant has increased; this should not happen: log(det) > log(previous_det) (-49.250211305123081 > -77.631992912415186). You may want to try with a higher value of support_fraction (current value: 0.501).\n",
      "  warnings.warn(\"Determinant has increased; this should not happen: \"\n",
      "C:\\ProgramData\\Anaconda3\\lib\\site-packages\\sklearn\\covariance\\_robust_covariance.py:166: RuntimeWarning: Determinant has increased; this should not happen: log(det) > log(previous_det) (-50.891326544720030 > -76.961863219564677). You may want to try with a higher value of support_fraction (current value: 0.501).\n",
      "  warnings.warn(\"Determinant has increased; this should not happen: \"\n",
      "C:\\ProgramData\\Anaconda3\\lib\\site-packages\\sklearn\\covariance\\_robust_covariance.py:166: RuntimeWarning: Determinant has increased; this should not happen: log(det) > log(previous_det) (-50.295985346422093 > -111.975995634933454). You may want to try with a higher value of support_fraction (current value: 0.501).\n",
      "  warnings.warn(\"Determinant has increased; this should not happen: \"\n",
      "C:\\ProgramData\\Anaconda3\\lib\\site-packages\\sklearn\\covariance\\_robust_covariance.py:166: RuntimeWarning: Determinant has increased; this should not happen: log(det) > log(previous_det) (-49.859327893628198 > -76.089786715135673). You may want to try with a higher value of support_fraction (current value: 0.501).\n",
      "  warnings.warn(\"Determinant has increased; this should not happen: \"\n",
      "C:\\ProgramData\\Anaconda3\\lib\\site-packages\\sklearn\\covariance\\_robust_covariance.py:166: RuntimeWarning: Determinant has increased; this should not happen: log(det) > log(previous_det) (-49.586488761883082 > -77.582561246761770). You may want to try with a higher value of support_fraction (current value: 0.501).\n",
      "  warnings.warn(\"Determinant has increased; this should not happen: \"\n",
      "C:\\ProgramData\\Anaconda3\\lib\\site-packages\\sklearn\\covariance\\_robust_covariance.py:166: RuntimeWarning: Determinant has increased; this should not happen: log(det) > log(previous_det) (-50.245515214503556 > -78.093767019515312). You may want to try with a higher value of support_fraction (current value: 0.501).\n",
      "  warnings.warn(\"Determinant has increased; this should not happen: \"\n",
      "C:\\ProgramData\\Anaconda3\\lib\\site-packages\\sklearn\\covariance\\_robust_covariance.py:166: RuntimeWarning: Determinant has increased; this should not happen: log(det) > log(previous_det) (-50.312636661667483 > -77.513137519681820). You may want to try with a higher value of support_fraction (current value: 0.501).\n",
      "  warnings.warn(\"Determinant has increased; this should not happen: \"\n",
      "C:\\ProgramData\\Anaconda3\\lib\\site-packages\\sklearn\\covariance\\_robust_covariance.py:166: RuntimeWarning: Determinant has increased; this should not happen: log(det) > log(previous_det) (-50.123779771299191 > -78.212561106143184). You may want to try with a higher value of support_fraction (current value: 0.501).\n",
      "  warnings.warn(\"Determinant has increased; this should not happen: \"\n",
      "C:\\ProgramData\\Anaconda3\\lib\\site-packages\\sklearn\\covariance\\_robust_covariance.py:166: RuntimeWarning: Determinant has increased; this should not happen: log(det) > log(previous_det) (-50.250066970763989 > -76.758700128907137). You may want to try with a higher value of support_fraction (current value: 0.501).\n",
      "  warnings.warn(\"Determinant has increased; this should not happen: \"\n",
      "C:\\ProgramData\\Anaconda3\\lib\\site-packages\\sklearn\\covariance\\_robust_covariance.py:166: RuntimeWarning: Determinant has increased; this should not happen: log(det) > log(previous_det) (-49.555505358476474 > -76.825974078426626). You may want to try with a higher value of support_fraction (current value: 0.501).\n",
      "  warnings.warn(\"Determinant has increased; this should not happen: \"\n",
      "C:\\ProgramData\\Anaconda3\\lib\\site-packages\\sklearn\\covariance\\_robust_covariance.py:166: RuntimeWarning: Determinant has increased; this should not happen: log(det) > log(previous_det) (-49.555991503541897 > -77.240613127175905). You may want to try with a higher value of support_fraction (current value: 0.501).\n",
      "  warnings.warn(\"Determinant has increased; this should not happen: \"\n"
     ]
    },
    {
     "name": "stderr",
     "output_type": "stream",
     "text": [
      "C:\\ProgramData\\Anaconda3\\lib\\site-packages\\sklearn\\covariance\\_robust_covariance.py:166: RuntimeWarning: Determinant has increased; this should not happen: log(det) > log(previous_det) (-50.312868452035886 > -77.854429057839795). You may want to try with a higher value of support_fraction (current value: 0.501).\n",
      "  warnings.warn(\"Determinant has increased; this should not happen: \"\n",
      "C:\\ProgramData\\Anaconda3\\lib\\site-packages\\sklearn\\covariance\\_robust_covariance.py:166: RuntimeWarning: Determinant has increased; this should not happen: log(det) > log(previous_det) (-50.387190804501877 > -78.949016127783054). You may want to try with a higher value of support_fraction (current value: 0.501).\n",
      "  warnings.warn(\"Determinant has increased; this should not happen: \"\n",
      "C:\\ProgramData\\Anaconda3\\lib\\site-packages\\sklearn\\covariance\\_robust_covariance.py:166: RuntimeWarning: Determinant has increased; this should not happen: log(det) > log(previous_det) (-51.145180878067869 > -77.958300380489945). You may want to try with a higher value of support_fraction (current value: 0.501).\n",
      "  warnings.warn(\"Determinant has increased; this should not happen: \"\n",
      "C:\\ProgramData\\Anaconda3\\lib\\site-packages\\sklearn\\covariance\\_robust_covariance.py:166: RuntimeWarning: Determinant has increased; this should not happen: log(det) > log(previous_det) (-50.764724066883232 > -77.826613258864086). You may want to try with a higher value of support_fraction (current value: 0.501).\n",
      "  warnings.warn(\"Determinant has increased; this should not happen: \"\n",
      "C:\\ProgramData\\Anaconda3\\lib\\site-packages\\sklearn\\covariance\\_robust_covariance.py:166: RuntimeWarning: Determinant has increased; this should not happen: log(det) > log(previous_det) (-48.810409699568162 > -116.332661175263155). You may want to try with a higher value of support_fraction (current value: 0.501).\n",
      "  warnings.warn(\"Determinant has increased; this should not happen: \"\n",
      "C:\\ProgramData\\Anaconda3\\lib\\site-packages\\sklearn\\covariance\\_robust_covariance.py:166: RuntimeWarning: Determinant has increased; this should not happen: log(det) > log(previous_det) (-50.256978425484164 > -78.145900071196891). You may want to try with a higher value of support_fraction (current value: 0.501).\n",
      "  warnings.warn(\"Determinant has increased; this should not happen: \"\n",
      "C:\\ProgramData\\Anaconda3\\lib\\site-packages\\sklearn\\covariance\\_robust_covariance.py:166: RuntimeWarning: Determinant has increased; this should not happen: log(det) > log(previous_det) (-49.917934483405567 > -77.979881803945844). You may want to try with a higher value of support_fraction (current value: 0.501).\n",
      "  warnings.warn(\"Determinant has increased; this should not happen: \"\n",
      "C:\\ProgramData\\Anaconda3\\lib\\site-packages\\sklearn\\covariance\\_robust_covariance.py:166: RuntimeWarning: Determinant has increased; this should not happen: log(det) > log(previous_det) (-49.289029393101465 > -76.515540899905375). You may want to try with a higher value of support_fraction (current value: 0.501).\n",
      "  warnings.warn(\"Determinant has increased; this should not happen: \"\n",
      "C:\\ProgramData\\Anaconda3\\lib\\site-packages\\sklearn\\covariance\\_robust_covariance.py:166: RuntimeWarning: Determinant has increased; this should not happen: log(det) > log(previous_det) (-49.606730348298889 > -76.850271046129805). You may want to try with a higher value of support_fraction (current value: 0.501).\n",
      "  warnings.warn(\"Determinant has increased; this should not happen: \"\n",
      "C:\\ProgramData\\Anaconda3\\lib\\site-packages\\sklearn\\covariance\\_robust_covariance.py:166: RuntimeWarning: Determinant has increased; this should not happen: log(det) > log(previous_det) (-50.182879512155957 > -76.682419561150454). You may want to try with a higher value of support_fraction (current value: 0.501).\n",
      "  warnings.warn(\"Determinant has increased; this should not happen: \"\n",
      "C:\\ProgramData\\Anaconda3\\lib\\site-packages\\sklearn\\covariance\\_robust_covariance.py:166: RuntimeWarning: Determinant has increased; this should not happen: log(det) > log(previous_det) (-50.209250265997873 > -76.972886191928126). You may want to try with a higher value of support_fraction (current value: 0.501).\n",
      "  warnings.warn(\"Determinant has increased; this should not happen: \"\n",
      "C:\\ProgramData\\Anaconda3\\lib\\site-packages\\sklearn\\covariance\\_robust_covariance.py:166: RuntimeWarning: Determinant has increased; this should not happen: log(det) > log(previous_det) (-50.091478318138449 > -76.989370595675624). You may want to try with a higher value of support_fraction (current value: 0.501).\n",
      "  warnings.warn(\"Determinant has increased; this should not happen: \"\n",
      "C:\\ProgramData\\Anaconda3\\lib\\site-packages\\sklearn\\covariance\\_robust_covariance.py:166: RuntimeWarning: Determinant has increased; this should not happen: log(det) > log(previous_det) (-50.362224422506159 > -78.257081241587713). You may want to try with a higher value of support_fraction (current value: 0.501).\n",
      "  warnings.warn(\"Determinant has increased; this should not happen: \"\n",
      "C:\\ProgramData\\Anaconda3\\lib\\site-packages\\sklearn\\covariance\\_robust_covariance.py:166: RuntimeWarning: Determinant has increased; this should not happen: log(det) > log(previous_det) (-50.173137659451200 > -78.150597487001860). You may want to try with a higher value of support_fraction (current value: 0.501).\n",
      "  warnings.warn(\"Determinant has increased; this should not happen: \"\n",
      "C:\\ProgramData\\Anaconda3\\lib\\site-packages\\sklearn\\covariance\\_robust_covariance.py:166: RuntimeWarning: Determinant has increased; this should not happen: log(det) > log(previous_det) (-50.294483190145314 > -77.468982947565934). You may want to try with a higher value of support_fraction (current value: 0.501).\n",
      "  warnings.warn(\"Determinant has increased; this should not happen: \"\n",
      "C:\\ProgramData\\Anaconda3\\lib\\site-packages\\sklearn\\covariance\\_robust_covariance.py:166: RuntimeWarning: Determinant has increased; this should not happen: log(det) > log(previous_det) (-49.956411375523572 > -76.719827541733068). You may want to try with a higher value of support_fraction (current value: 0.501).\n",
      "  warnings.warn(\"Determinant has increased; this should not happen: \"\n",
      "C:\\ProgramData\\Anaconda3\\lib\\site-packages\\sklearn\\covariance\\_robust_covariance.py:166: RuntimeWarning: Determinant has increased; this should not happen: log(det) > log(previous_det) (-50.077545968806440 > -78.156495151219602). You may want to try with a higher value of support_fraction (current value: 0.501).\n",
      "  warnings.warn(\"Determinant has increased; this should not happen: \"\n",
      "C:\\ProgramData\\Anaconda3\\lib\\site-packages\\sklearn\\covariance\\_robust_covariance.py:166: RuntimeWarning: Determinant has increased; this should not happen: log(det) > log(previous_det) (-50.139867893805473 > -77.256788517128939). You may want to try with a higher value of support_fraction (current value: 0.501).\n",
      "  warnings.warn(\"Determinant has increased; this should not happen: \"\n",
      "C:\\ProgramData\\Anaconda3\\lib\\site-packages\\sklearn\\covariance\\_robust_covariance.py:166: RuntimeWarning: Determinant has increased; this should not happen: log(det) > log(previous_det) (-50.213233984588001 > -77.547623882897938). You may want to try with a higher value of support_fraction (current value: 0.501).\n",
      "  warnings.warn(\"Determinant has increased; this should not happen: \"\n",
      "C:\\ProgramData\\Anaconda3\\lib\\site-packages\\sklearn\\covariance\\_robust_covariance.py:166: RuntimeWarning: Determinant has increased; this should not happen: log(det) > log(previous_det) (-50.126142883911584 > -78.835896971950660). You may want to try with a higher value of support_fraction (current value: 0.501).\n",
      "  warnings.warn(\"Determinant has increased; this should not happen: \"\n"
     ]
    },
    {
     "name": "stdout",
     "output_type": "stream",
     "text": [
      "Minimum Covariance Determinant (MCD) ROC:0.9903, precision @ rank n:0.7534, execution time: 24.3271s\n",
      "One-class SVM (OCSVM) ROC:0.9922, precision @ rank n:0.9553, execution time: 105.2007s\n",
      "Principal Component Analysis (PCA) ROC:0.9902, precision @ rank n:0.9503, execution time: 0.063s\n",
      "\n",
      "... Processing vertebral.mat ...\n",
      "Angle-based Outlier Detector (ABOD) ROC:0.2797, precision @ rank n:0.0, execution time: 0.1341s\n",
      "Cluster-based Local Outlier Factor ROC:0.3908, precision @ rank n:0.0, execution time: 0.0951s\n",
      "Feature Bagging ROC:0.3027, precision @ rank n:0.0, execution time: 0.065s\n",
      "Histogram-base Outlier Detection (HBOS) ROC:0.2695, precision @ rank n:0.0, execution time: 0.005s\n"
     ]
    },
    {
     "name": "stderr",
     "output_type": "stream",
     "text": [
      "C:\\ProgramData\\Anaconda3\\lib\\site-packages\\sklearn\\cluster\\_kmeans.py:973: FutureWarning: 'n_jobs' was deprecated in version 0.23 and will be removed in 0.25.\n",
      "  warnings.warn(\"'n_jobs' was deprecated in version 0.23 and will be\"\n"
     ]
    },
    {
     "name": "stdout",
     "output_type": "stream",
     "text": [
      "Isolation Forest ROC:0.3576, precision @ rank n:0.0, execution time: 0.6114s\n",
      "K Nearest Neighbors (KNN) ROC:0.318, precision @ rank n:0.0, execution time: 0.02s\n",
      "Local Outlier Factor (LOF) ROC:0.318, precision @ rank n:0.0, execution time: 0.006s\n",
      "Minimum Covariance Determinant (MCD) ROC:0.3321, precision @ rank n:0.0, execution time: 0.0861s\n",
      "One-class SVM (OCSVM) ROC:0.4087, precision @ rank n:0.0, execution time: 0.004s\n",
      "Principal Component Analysis (PCA) ROC:0.3397, precision @ rank n:0.0, execution time: 0.0029s\n",
      "\n",
      "... Processing vowels.mat ...\n",
      "Angle-based Outlier Detector (ABOD) ROC:0.9521, precision @ rank n:0.4706, execution time: 0.9106s\n"
     ]
    },
    {
     "name": "stderr",
     "output_type": "stream",
     "text": [
      "C:\\ProgramData\\Anaconda3\\lib\\site-packages\\sklearn\\cluster\\_kmeans.py:973: FutureWarning: 'n_jobs' was deprecated in version 0.23 and will be removed in 0.25.\n",
      "  warnings.warn(\"'n_jobs' was deprecated in version 0.23 and will be\"\n"
     ]
    },
    {
     "name": "stdout",
     "output_type": "stream",
     "text": [
      "Cluster-based Local Outlier Factor ROC:0.9278, precision @ rank n:0.4118, execution time: 0.2412s\n",
      "Feature Bagging ROC:0.9385, precision @ rank n:0.3529, execution time: 0.6945s\n",
      "Histogram-base Outlier Detection (HBOS) ROC:0.6758, precision @ rank n:0.1765, execution time: 0.009s\n",
      "Isolation Forest ROC:0.7469, precision @ rank n:0.1176, execution time: 0.8836s\n",
      "K Nearest Neighbors (KNN) ROC:0.9568, precision @ rank n:0.5294, execution time: 0.2161s\n",
      "Local Outlier Factor (LOF) ROC:0.9345, precision @ rank n:0.4118, execution time: 0.0851s\n",
      "Minimum Covariance Determinant (MCD) ROC:0.6779, precision @ rank n:0.0, execution time: 1.8792s\n",
      "One-class SVM (OCSVM) ROC:0.7415, precision @ rank n:0.2941, execution time: 0.0911s\n",
      "Principal Component Analysis (PCA) ROC:0.5787, precision @ rank n:0.1176, execution time: 0.006s\n",
      "\n",
      "... Processing wbc.mat ...\n",
      "Angle-based Outlier Detector (ABOD) ROC:0.9232, precision @ rank n:0.3, execution time: 0.2412s\n",
      "Cluster-based Local Outlier Factor ROC:0.9063, precision @ rank n:0.6, execution time: 0.1291s\n"
     ]
    },
    {
     "name": "stderr",
     "output_type": "stream",
     "text": [
      "C:\\ProgramData\\Anaconda3\\lib\\site-packages\\sklearn\\cluster\\_kmeans.py:973: FutureWarning: 'n_jobs' was deprecated in version 0.23 and will be removed in 0.25.\n",
      "  warnings.warn(\"'n_jobs' was deprecated in version 0.23 and will be\"\n"
     ]
    },
    {
     "name": "stdout",
     "output_type": "stream",
     "text": [
      "Feature Bagging ROC:0.9415, precision @ rank n:0.5, execution time: 0.1821s\n",
      "Histogram-base Outlier Detection (HBOS) ROC:0.9592, precision @ rank n:0.7, execution time: 0.016s\n",
      "Isolation Forest ROC:0.9451, precision @ rank n:0.5, execution time: 0.8315s\n",
      "K Nearest Neighbors (KNN) ROC:0.9437, precision @ rank n:0.5, execution time: 0.037s\n",
      "Local Outlier Factor (LOF) ROC:0.9352, precision @ rank n:0.4, execution time: 0.013s\n",
      "Minimum Covariance Determinant (MCD) ROC:0.8986, precision @ rank n:0.4, execution time: 0.1421s\n",
      "One-class SVM (OCSVM) ROC:0.9408, precision @ rank n:0.5, execution time: 0.01s\n",
      "Principal Component Analysis (PCA) ROC:0.9324, precision @ rank n:0.6, execution time: 0.005s\n"
     ]
    }
   ],
   "source": [
    "from time import time\n",
    "random_state = np.random.RandomState(42)\n",
    "\n",
    "for mat_file in mat_file_list:\n",
    "    print(\"\\n... Processing\", mat_file, '...')\n",
    "    mat = loadmat(os.path.join('C:/Users/PC/Documents/Python/Anamoly_detec_data/', mat_file))\n",
    "\n",
    "    X = mat['X']\n",
    "    y = mat['y'].ravel()\n",
    "    outliers_fraction = np.count_nonzero(y) / len(y)\n",
    "    outliers_percentage = round(outliers_fraction * 100, ndigits=4)\n",
    "\n",
    "    # construct containers for saving results\n",
    "    roc_list = [mat_file[:-4], X.shape[0], X.shape[1], outliers_percentage]\n",
    "    prn_list = [mat_file[:-4], X.shape[0], X.shape[1], outliers_percentage]\n",
    "    time_list = [mat_file[:-4], X.shape[0], X.shape[1], outliers_percentage]\n",
    "\n",
    "    # 60% data for training and 40% for testing\n",
    "    X_train, X_test, y_train, y_test = train_test_split(X, y, test_size=0.4,\n",
    "                                                        random_state=random_state)\n",
    "\n",
    "    # standardizing data for processing\n",
    "    X_train_norm, X_test_norm = standardizer(X_train, X_test)\n",
    "\n",
    "    classifiers = {'Angle-based Outlier Detector (ABOD)': ABOD(\n",
    "        contamination=outliers_fraction),\n",
    "        'Cluster-based Local Outlier Factor': CBLOF(\n",
    "            contamination=outliers_fraction, check_estimator=False,\n",
    "            random_state=random_state),\n",
    "        'Feature Bagging': FeatureBagging(contamination=outliers_fraction,\n",
    "                                          random_state=random_state),\n",
    "        'Histogram-base Outlier Detection (HBOS)': HBOS(\n",
    "            contamination=outliers_fraction),\n",
    "        'Isolation Forest': IForest(contamination=outliers_fraction,\n",
    "                                    random_state=random_state),\n",
    "        'K Nearest Neighbors (KNN)': KNN(contamination=outliers_fraction),\n",
    "        'Local Outlier Factor (LOF)': LOF(\n",
    "            contamination=outliers_fraction),\n",
    "        'Minimum Covariance Determinant (MCD)': MCD(\n",
    "            contamination=outliers_fraction, random_state=random_state),\n",
    "        'One-class SVM (OCSVM)': OCSVM(contamination=outliers_fraction),\n",
    "        'Principal Component Analysis (PCA)': PCA(\n",
    "            contamination=outliers_fraction, random_state=random_state),\n",
    "    }\n",
    "\n",
    "    for clf_name, clf in classifiers.items():\n",
    "        t0 = time()\n",
    "        clf.fit(X_train_norm)\n",
    "        test_scores = clf.decision_function(X_test_norm)\n",
    "        t1 = time()\n",
    "        duration = round(t1 - t0, ndigits=4)\n",
    "        time_list.append(duration)\n",
    "\n",
    "        roc = round(roc_auc_score(y_test, test_scores), ndigits=4)\n",
    "        prn = round(precision_n_scores(y_test, test_scores), ndigits=4)\n",
    "\n",
    "        print('{clf_name} ROC:{roc}, precision @ rank n:{prn}, '\n",
    "              'execution time: {duration}s'.format(\n",
    "            clf_name=clf_name, roc=roc, prn=prn, duration=duration))\n",
    "\n",
    "        roc_list.append(roc)\n",
    "        prn_list.append(prn)\n",
    "        \n",
    "   "
   ]
  },
  {
   "cell_type": "code",
   "execution_count": null,
   "metadata": {},
   "outputs": [],
   "source": []
  },
  {
   "cell_type": "code",
   "execution_count": null,
   "metadata": {},
   "outputs": [],
   "source": []
  }
 ],
 "metadata": {
  "kernelspec": {
   "display_name": "Python 3",
   "language": "python",
   "name": "python3"
  },
  "language_info": {
   "codemirror_mode": {
    "name": "ipython",
    "version": 3
   },
   "file_extension": ".py",
   "mimetype": "text/x-python",
   "name": "python",
   "nbconvert_exporter": "python",
   "pygments_lexer": "ipython3",
   "version": "3.8.3"
  }
 },
 "nbformat": 4,
 "nbformat_minor": 4
}
