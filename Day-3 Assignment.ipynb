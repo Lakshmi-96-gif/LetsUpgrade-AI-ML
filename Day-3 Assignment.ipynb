{
 "cells": [
  {
   "cell_type": "code",
   "execution_count": 1,
   "metadata": {},
   "outputs": [
    {
     "name": "stdout",
     "output_type": "stream",
     "text": [
      "Subtraction of two complex numbers :  (1+10j)\n"
     ]
    }
   ],
   "source": [
    "print(\"Subtraction of two complex numbers : \",(4+3j)-(3-7j))\n"
   ]
  },
  {
   "cell_type": "code",
   "execution_count": 5,
   "metadata": {},
   "outputs": [
    {
     "name": "stdout",
     "output_type": "stream",
     "text": [
      "fourth root of n: 81\n"
     ]
    }
   ],
   "source": [
    "print(\"fourth root of n:\", (3**4))\n"
   ]
  },
  {
   "cell_type": "code",
   "execution_count": 7,
   "metadata": {},
   "outputs": [
    {
     "name": "stdout",
     "output_type": "stream",
     "text": [
      "The value of x after swapping: 10\n",
      "The value of y after swapping: 5\n"
     ]
    }
   ],
   "source": [
    "# Python program to swap two variables\n",
    "\n",
    "x = 5\n",
    "y = 10\n",
    "temp = x\n",
    "x = y\n",
    "y = temp\n",
    "\n",
    "print('The value of x after swapping:', x)\n",
    "print('The value of y after swapping:', y)"
   ]
  },
  {
   "cell_type": "code",
   "execution_count": 10,
   "metadata": {},
   "outputs": [
    {
     "name": "stdout",
     "output_type": "stream",
     "text": [
      "After Swapping: x = 5  y = 5\n"
     ]
    }
   ],
   "source": [
    "x = x * y\n",
    "y = x // y;   \n",
    "x = x // y;  \n",
    "  \n",
    "print(\"After Swapping: x =\", x, \" y =\", y)               "
   ]
  },
  {
   "cell_type": "code",
   "execution_count": 11,
   "metadata": {},
   "outputs": [
    {
     "name": "stdout",
     "output_type": "stream",
     "text": [
      "Enter temperature in celsius: 32\n",
      "32.000 Celsius = 89.600 Fahrenheit.\n",
      "32.000 Celsius = 305.150 Kelvin.\n"
     ]
    }
   ],
   "source": [
    "# Celsius to Fahrenheit & Kelvin\n",
    "celsius = float(input('Enter temperature in celsius: '))\n",
    "\n",
    "fahrenheit = 1.8 * celsius + 32\n",
    "kelvin = 273.15 + celsius\n",
    "\n",
    "print('%0.3f Celsius = %0.3f Fahrenheit.' % (celsius, fahrenheit))\n",
    "print('%0.3f Celsius = %0.3f Kelvin.' % (celsius, kelvin))"
   ]
  },
  {
   "cell_type": "code",
   "execution_count": 13,
   "metadata": {},
   "outputs": [
    {
     "name": "stdout",
     "output_type": "stream",
     "text": [
      "<class 'int'>\n",
      "<class 'float'>\n",
      "<class 'complex'>\n",
      "<class 'float'>\n"
     ]
    }
   ],
   "source": [
    "a = 5\n",
    "print(type(a)) \n",
    "  \n",
    "b = 5.0\n",
    "print(type(b)) \n",
    "  \n",
    "c = 2 + 4j\n",
    "print(type(c)) \n",
    "d = 123.34566\n",
    "print(type(d))"
   ]
  },
  {
   "cell_type": "code",
   "execution_count": null,
   "metadata": {},
   "outputs": [],
   "source": []
  }
 ],
 "metadata": {
  "kernelspec": {
   "display_name": "Python 3",
   "language": "python",
   "name": "python3"
  },
  "language_info": {
   "codemirror_mode": {
    "name": "ipython",
    "version": 3
   },
   "file_extension": ".py",
   "mimetype": "text/x-python",
   "name": "python",
   "nbconvert_exporter": "python",
   "pygments_lexer": "ipython3",
   "version": "3.7.6"
  }
 },
 "nbformat": 4,
 "nbformat_minor": 4
}
