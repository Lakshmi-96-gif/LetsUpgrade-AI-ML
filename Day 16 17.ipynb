{
 "cells": [
  {
   "cell_type": "code",
   "execution_count": 1,
   "metadata": {},
   "outputs": [],
   "source": [
    "%matplotlib inline\n",
    "import pandas as pd"
   ]
  },
  {
   "cell_type": "code",
   "execution_count": 2,
   "metadata": {},
   "outputs": [
    {
     "data": {
      "text/html": [
       "<style>body {\n",
       "    margin: 0;\n",
       "    font-family: Helvetica;\n",
       "}\n",
       "table.dataframe {\n",
       "    border-collapse: collapse;\n",
       "    border: none;\n",
       "}\n",
       "table.dataframe tr {\n",
       "    border: none;\n",
       "}\n",
       "table.dataframe td, table.dataframe th {\n",
       "    margin: 0;\n",
       "    border: 1px solid white;\n",
       "    padding-left: 0.25em;\n",
       "    padding-right: 0.25em;\n",
       "}\n",
       "table.dataframe th:not(:empty) {\n",
       "    background-color: #fec;\n",
       "    text-align: left;\n",
       "    font-weight: normal;\n",
       "}\n",
       "table.dataframe tr:nth-child(2) th:empty {\n",
       "    border-left: none;\n",
       "    border-right: 1px dashed #888;\n",
       "}\n",
       "table.dataframe td {\n",
       "    border: 2px solid #ccf;\n",
       "    background-color: #f4f4ff;\n",
       "}\n",
       "h3 {\n",
       "    color: white;\n",
       "    background-color: black;\n",
       "    padding: 0.5em;\n",
       "}\n",
       "</style>"
      ],
      "text/plain": [
       "<IPython.core.display.HTML object>"
      ]
     },
     "execution_count": 2,
     "metadata": {},
     "output_type": "execute_result"
    }
   ],
   "source": [
    "from IPython.core.display import HTML\n",
    "css = open('style-table.css').read() + open('style-notebook.css').read()\n",
    "HTML('<style>{}</style>'.format(css))"
   ]
  },
  {
   "cell_type": "code",
   "execution_count": 5,
   "metadata": {},
   "outputs": [
    {
     "data": {
      "text/html": [
       "<div>\n",
       "<style scoped>\n",
       "    .dataframe tbody tr th:only-of-type {\n",
       "        vertical-align: middle;\n",
       "    }\n",
       "\n",
       "    .dataframe tbody tr th {\n",
       "        vertical-align: top;\n",
       "    }\n",
       "\n",
       "    .dataframe thead th {\n",
       "        text-align: right;\n",
       "    }\n",
       "</style>\n",
       "<table border=\"1\" class=\"dataframe\">\n",
       "  <thead>\n",
       "    <tr style=\"text-align: right;\">\n",
       "      <th></th>\n",
       "      <th>title</th>\n",
       "      <th>year</th>\n",
       "    </tr>\n",
       "  </thead>\n",
       "  <tbody>\n",
       "    <tr>\n",
       "      <th>0</th>\n",
       "      <td>Tasveer Mere Sanam</td>\n",
       "      <td>1996</td>\n",
       "    </tr>\n",
       "    <tr>\n",
       "      <th>1</th>\n",
       "      <td>Only You</td>\n",
       "      <td>1994</td>\n",
       "    </tr>\n",
       "    <tr>\n",
       "      <th>2</th>\n",
       "      <td>El pueblo del terror</td>\n",
       "      <td>1970</td>\n",
       "    </tr>\n",
       "    <tr>\n",
       "      <th>3</th>\n",
       "      <td>Machine</td>\n",
       "      <td>2007</td>\n",
       "    </tr>\n",
       "    <tr>\n",
       "      <th>4</th>\n",
       "      <td>MARy</td>\n",
       "      <td>2008</td>\n",
       "    </tr>\n",
       "  </tbody>\n",
       "</table>\n",
       "</div>"
      ],
      "text/plain": [
       "                  title  year\n",
       "0    Tasveer Mere Sanam  1996\n",
       "1              Only You  1994\n",
       "2  El pueblo del terror  1970\n",
       "3               Machine  2007\n",
       "4                  MARy  2008"
      ]
     },
     "execution_count": 5,
     "metadata": {},
     "output_type": "execute_result"
    }
   ],
   "source": [
    "import pandas as pd\n",
    "titles = pd.read_csv('C:/Users/PC/Downloads/titles.csv')\n",
    "titles.head()"
   ]
  },
  {
   "cell_type": "code",
   "execution_count": null,
   "metadata": {},
   "outputs": [],
   "source": [
    "\n"
   ]
  },
  {
   "cell_type": "markdown",
   "metadata": {
    "collapsed": true
   },
   "source": [
    "### How many movies are listed in the titles dataframe?"
   ]
  },
  {
   "cell_type": "code",
   "execution_count": 1,
   "metadata": {},
   "outputs": [
    {
     "data": {
      "text/plain": [
       "489828"
      ]
     },
     "execution_count": 1,
     "metadata": {},
     "output_type": "execute_result"
    }
   ],
   "source": [
    "import pandas as pd\n",
    "titles = pd.read_csv('C:/Users/PC/Downloads/titles.csv')\n",
    "titles.size\n"
   ]
  },
  {
   "cell_type": "code",
   "execution_count": null,
   "metadata": {
    "collapsed": true
   },
   "outputs": [],
   "source": []
  },
  {
   "cell_type": "markdown",
   "metadata": {
    "collapsed": true
   },
   "source": [
    "### What are the earliest two films listed in the titles dataframe?"
   ]
  },
  {
   "cell_type": "code",
   "execution_count": 3,
   "metadata": {},
   "outputs": [
    {
     "data": {
      "text/html": [
       "<div>\n",
       "<style scoped>\n",
       "    .dataframe tbody tr th:only-of-type {\n",
       "        vertical-align: middle;\n",
       "    }\n",
       "\n",
       "    .dataframe tbody tr th {\n",
       "        vertical-align: top;\n",
       "    }\n",
       "\n",
       "    .dataframe thead th {\n",
       "        text-align: right;\n",
       "    }\n",
       "</style>\n",
       "<table border=\"1\" class=\"dataframe\">\n",
       "  <thead>\n",
       "    <tr style=\"text-align: right;\">\n",
       "      <th></th>\n",
       "      <th>title</th>\n",
       "      <th>year</th>\n",
       "    </tr>\n",
       "  </thead>\n",
       "  <tbody>\n",
       "    <tr>\n",
       "      <th>0</th>\n",
       "      <td>Tasveer Mere Sanam</td>\n",
       "      <td>1996</td>\n",
       "    </tr>\n",
       "    <tr>\n",
       "      <th>1</th>\n",
       "      <td>Only You</td>\n",
       "      <td>1994</td>\n",
       "    </tr>\n",
       "  </tbody>\n",
       "</table>\n",
       "</div>"
      ],
      "text/plain": [
       "                title  year\n",
       "0  Tasveer Mere Sanam  1996\n",
       "1            Only You  1994"
      ]
     },
     "execution_count": 3,
     "metadata": {},
     "output_type": "execute_result"
    }
   ],
   "source": [
    "import pandas as pd\n",
    "titles=pd.read_csv('C:/Users/PC/Downloads/titles.csv')\n",
    "titles.iloc[:2]"
   ]
  },
  {
   "cell_type": "code",
   "execution_count": null,
   "metadata": {
    "collapsed": true
   },
   "outputs": [],
   "source": []
  },
  {
   "cell_type": "markdown",
   "metadata": {
    "collapsed": true
   },
   "source": [
    "### How many movies have the title \"Hamlet\"?"
   ]
  },
  {
   "cell_type": "code",
   "execution_count": 17,
   "metadata": {},
   "outputs": [
    {
     "name": "stdout",
     "output_type": "stream",
     "text": [
      "40\n",
      "<bound method DataFrame.count of          title  year\n",
      "6422    Hamlet  2017\n",
      "10637   Hamlet  1921\n",
      "39916   Hamlet  1913\n",
      "52521   Hamlet  1910\n",
      "62000   Hamlet  2000\n",
      "67406   Hamlet  1969\n",
      "82130   Hamlet  1987\n",
      "88065   Hamlet  2016\n",
      "101728  Hamlet  1948\n",
      "122827  Hamlet  1973\n",
      "133921  Hamlet  1976\n",
      "154029  Hamlet  2015\n",
      "161324  Hamlet  1964\n",
      "172640  Hamlet  1954\n",
      "173033  Hamlet  2011\n",
      "178222  Hamlet  1996\n",
      "189093  Hamlet  2009\n",
      "192142  Hamlet  1990\n",
      "198234  Hamlet  1911\n",
      "202025  Hamlet  2014>\n",
      "(20, 2)\n"
     ]
    }
   ],
   "source": [
    "\n",
    "import pandas as pd\n",
    "titles=pd.read_csv('C:/Users/PC/Downloads/titles.csv')\n",
    "H=titles.loc[titles['title']=='Hamlet']\n",
    "print(H.size)\n",
    "print(H.count)\n",
    "print(H.shape)"
   ]
  },
  {
   "cell_type": "code",
   "execution_count": null,
   "metadata": {},
   "outputs": [],
   "source": []
  },
  {
   "cell_type": "markdown",
   "metadata": {
    "collapsed": true
   },
   "source": [
    "### How many movies are titled \"North by Northwest\"?"
   ]
  },
  {
   "cell_type": "code",
   "execution_count": 15,
   "metadata": {},
   "outputs": [
    {
     "name": "stdout",
     "output_type": "stream",
     "text": [
      "2\n"
     ]
    }
   ],
   "source": [
    "\n",
    "import pandas as pd\n",
    "titles=pd.read_csv('C:/Users/PC/Downloads/titles.csv')\n",
    "N=titles.loc[titles['title']=='North by Northwest']\n",
    "print(N.size)"
   ]
  },
  {
   "cell_type": "code",
   "execution_count": null,
   "metadata": {
    "collapsed": true
   },
   "outputs": [],
   "source": []
  },
  {
   "cell_type": "markdown",
   "metadata": {
    "collapsed": true
   },
   "source": [
    "### When was the first movie titled \"Hamlet\" made?"
   ]
  },
  {
   "cell_type": "code",
   "execution_count": 44,
   "metadata": {},
   "outputs": [
    {
     "data": {
      "text/html": [
       "<div>\n",
       "<style scoped>\n",
       "    .dataframe tbody tr th:only-of-type {\n",
       "        vertical-align: middle;\n",
       "    }\n",
       "\n",
       "    .dataframe tbody tr th {\n",
       "        vertical-align: top;\n",
       "    }\n",
       "\n",
       "    .dataframe thead th {\n",
       "        text-align: right;\n",
       "    }\n",
       "</style>\n",
       "<table border=\"1\" class=\"dataframe\">\n",
       "  <thead>\n",
       "    <tr style=\"text-align: right;\">\n",
       "      <th></th>\n",
       "      <th>title</th>\n",
       "      <th>year</th>\n",
       "    </tr>\n",
       "  </thead>\n",
       "  <tbody>\n",
       "    <tr>\n",
       "      <th>10637</th>\n",
       "      <td>Hamlet</td>\n",
       "      <td>1921</td>\n",
       "    </tr>\n",
       "  </tbody>\n",
       "</table>\n",
       "</div>"
      ],
      "text/plain": [
       "        title  year\n",
       "10637  Hamlet  1921"
      ]
     },
     "execution_count": 44,
     "metadata": {},
     "output_type": "execute_result"
    }
   ],
   "source": [
    "import pandas as pd\n",
    "titles=pd.read_csv('C:/Users/PC/Downloads/titles.csv')\n",
    "M=titles.loc[titles['title']=='Hamlet']\n",
    "M.sort_values(by=['year'])\n",
    "M.iloc[1:2]\n",
    "\n"
   ]
  },
  {
   "cell_type": "markdown",
   "metadata": {
    "collapsed": true
   },
   "source": [
    "### List all of the \"Treasure Island\" movies from earliest to most recent."
   ]
  },
  {
   "cell_type": "code",
   "execution_count": 45,
   "metadata": {},
   "outputs": [
    {
     "data": {
      "text/html": [
       "<div>\n",
       "<style scoped>\n",
       "    .dataframe tbody tr th:only-of-type {\n",
       "        vertical-align: middle;\n",
       "    }\n",
       "\n",
       "    .dataframe tbody tr th {\n",
       "        vertical-align: top;\n",
       "    }\n",
       "\n",
       "    .dataframe thead th {\n",
       "        text-align: right;\n",
       "    }\n",
       "</style>\n",
       "<table border=\"1\" class=\"dataframe\">\n",
       "  <thead>\n",
       "    <tr style=\"text-align: right;\">\n",
       "      <th></th>\n",
       "      <th>title</th>\n",
       "      <th>year</th>\n",
       "    </tr>\n",
       "  </thead>\n",
       "  <tbody>\n",
       "    <tr>\n",
       "      <th>55686</th>\n",
       "      <td>Treasure Island</td>\n",
       "      <td>1918</td>\n",
       "    </tr>\n",
       "    <tr>\n",
       "      <th>196514</th>\n",
       "      <td>Treasure Island</td>\n",
       "      <td>1920</td>\n",
       "    </tr>\n",
       "    <tr>\n",
       "      <th>141822</th>\n",
       "      <td>Treasure Island</td>\n",
       "      <td>1934</td>\n",
       "    </tr>\n",
       "    <tr>\n",
       "      <th>77354</th>\n",
       "      <td>Treasure Island</td>\n",
       "      <td>1950</td>\n",
       "    </tr>\n",
       "    <tr>\n",
       "      <th>65051</th>\n",
       "      <td>Treasure Island</td>\n",
       "      <td>1972</td>\n",
       "    </tr>\n",
       "    <tr>\n",
       "      <th>37238</th>\n",
       "      <td>Treasure Island</td>\n",
       "      <td>1973</td>\n",
       "    </tr>\n",
       "    <tr>\n",
       "      <th>173051</th>\n",
       "      <td>Treasure Island</td>\n",
       "      <td>1985</td>\n",
       "    </tr>\n",
       "    <tr>\n",
       "      <th>27076</th>\n",
       "      <td>Treasure Island</td>\n",
       "      <td>1999</td>\n",
       "    </tr>\n",
       "  </tbody>\n",
       "</table>\n",
       "</div>"
      ],
      "text/plain": [
       "                  title  year\n",
       "55686   Treasure Island  1918\n",
       "196514  Treasure Island  1920\n",
       "141822  Treasure Island  1934\n",
       "77354   Treasure Island  1950\n",
       "65051   Treasure Island  1972\n",
       "37238   Treasure Island  1973\n",
       "173051  Treasure Island  1985\n",
       "27076   Treasure Island  1999"
      ]
     },
     "execution_count": 45,
     "metadata": {},
     "output_type": "execute_result"
    }
   ],
   "source": [
    "import pandas as pd\n",
    "titles=pd.read_csv('C:/Users/PC/Downloads/titles.csv')\n",
    "T=titles.loc[titles['title']=='Treasure Island']\n",
    "T.sort_values(by=['year'])"
   ]
  },
  {
   "cell_type": "markdown",
   "metadata": {
    "collapsed": true
   },
   "source": [
    "### How many movies were made in the year 1950?"
   ]
  },
  {
   "cell_type": "code",
   "execution_count": 48,
   "metadata": {},
   "outputs": [
    {
     "name": "stdout",
     "output_type": "stream",
     "text": [
      "2226\n"
     ]
    }
   ],
   "source": [
    "import pandas as pd\n",
    "titles=pd.read_csv('C:/Users/PC/Downloads/titles.csv')\n",
    "T=titles.loc[titles['year']==1950]\n",
    "print(T.size)"
   ]
  },
  {
   "cell_type": "markdown",
   "metadata": {
    "collapsed": true
   },
   "source": [
    "### How many movies were made in the year 1960?"
   ]
  },
  {
   "cell_type": "code",
   "execution_count": 49,
   "metadata": {},
   "outputs": [
    {
     "name": "stdout",
     "output_type": "stream",
     "text": [
      "3098\n"
     ]
    }
   ],
   "source": [
    "import pandas as pd\n",
    "titles=pd.read_csv('C:/Users/PC/Downloads/titles.csv')\n",
    "T=titles.loc[titles['year']==1960]\n",
    "print(T.size)"
   ]
  },
  {
   "cell_type": "markdown",
   "metadata": {
    "collapsed": true
   },
   "source": [
    "### How many movies were made from 1950 through 1959?"
   ]
  },
  {
   "cell_type": "markdown",
   "metadata": {},
   "source": []
  },
  {
   "cell_type": "code",
   "execution_count": 55,
   "metadata": {},
   "outputs": [
    {
     "name": "stdout",
     "output_type": "stream",
     "text": [
      "25868\n"
     ]
    }
   ],
   "source": [
    "import pandas as pd\n",
    "titles=pd.read_csv('C:/Users/PC/Downloads/titles.csv')\n",
    "y=titles['year'].between(1950, 1959, inclusive=True)\n",
    "print(titles[y].size)"
   ]
  },
  {
   "cell_type": "markdown",
   "metadata": {
    "collapsed": true
   },
   "source": [
    "### In what years has a movie titled \"Batman\" been released?"
   ]
  },
  {
   "cell_type": "code",
   "execution_count": 58,
   "metadata": {},
   "outputs": [
    {
     "name": "stdout",
     "output_type": "stream",
     "text": [
      "        title  year\n",
      "39349  Batman  1943\n"
     ]
    }
   ],
   "source": [
    "import pandas as pd\n",
    "titles=pd.read_csv('C:/Users/PC/Downloads/titles.csv')\n",
    "B=titles.loc[titles['title']=='Batman']\n",
    "print(B.iloc[0:1])\n"
   ]
  },
  {
   "cell_type": "markdown",
   "metadata": {
    "collapsed": true
   },
   "source": [
    "### How many roles were there in the movie \"Inception\"?"
   ]
  },
  {
   "cell_type": "code",
   "execution_count": 66,
   "metadata": {},
   "outputs": [
    {
     "name": "stdout",
     "output_type": "stream",
     "text": [
      "78\n"
     ]
    }
   ],
   "source": [
    "import pandas as pd\n",
    "cast=pd.read_csv('C:/Users/PC/Downloads/cast.csv')\n",
    "C=cast.loc[cast['title']=='Inception']\n",
    "print(C['n'].size)"
   ]
  },
  {
   "cell_type": "code",
   "execution_count": null,
   "metadata": {
    "collapsed": true
   },
   "outputs": [],
   "source": []
  },
  {
   "cell_type": "markdown",
   "metadata": {
    "collapsed": true
   },
   "source": [
    "### How many roles in the movie \"Inception\" are NOT ranked by an \"n\" value?"
   ]
  },
  {
   "cell_type": "code",
   "execution_count": 68,
   "metadata": {},
   "outputs": [
    {
     "data": {
      "text/plain": [
       "title         0\n",
       "year          0\n",
       "name          0\n",
       "type          0\n",
       "character     0\n",
       "n            27\n",
       "dtype: int64"
      ]
     },
     "execution_count": 68,
     "metadata": {},
     "output_type": "execute_result"
    }
   ],
   "source": [
    "import pandas as pd\n",
    "cast=pd.read_csv('C:/Users/PC/Downloads/cast.csv')\n",
    "C=cast.loc[cast['title']=='Inception']\n",
    "C.isna().sum()"
   ]
  },
  {
   "cell_type": "code",
   "execution_count": null,
   "metadata": {
    "collapsed": true
   },
   "outputs": [],
   "source": []
  },
  {
   "cell_type": "markdown",
   "metadata": {
    "collapsed": true
   },
   "source": [
    "### But how many roles in the movie \"Inception\" did receive an \"n\" value?"
   ]
  },
  {
   "cell_type": "code",
   "execution_count": 71,
   "metadata": {},
   "outputs": [
    {
     "data": {
      "text/plain": [
       "306"
      ]
     },
     "execution_count": 71,
     "metadata": {},
     "output_type": "execute_result"
    }
   ],
   "source": [
    "import pandas as pd\n",
    "cast=pd.read_csv('C:/Users/PC/Downloads/cast.csv')\n",
    "C=cast.loc[cast['title']=='Inception']\n",
    "C.dropna().size\n"
   ]
  },
  {
   "cell_type": "code",
   "execution_count": null,
   "metadata": {
    "collapsed": true
   },
   "outputs": [],
   "source": []
  },
  {
   "cell_type": "markdown",
   "metadata": {
    "collapsed": true
   },
   "source": [
    "### Display the cast of \"North by Northwest\" in their correct \"n\"-value order, ignoring roles that did not earn a numeric \"n\" value."
   ]
  },
  {
   "cell_type": "code",
   "execution_count": 74,
   "metadata": {},
   "outputs": [
    {
     "name": "stdout",
     "output_type": "stream",
     "text": [
      "                      title  year                  name     type  \\\n",
      "871426   North by Northwest  1959            Cary Grant    actor   \n",
      "3518333  North by Northwest  1959       Eva Marie Saint  actress   \n",
      "1457165  North by Northwest  1959           James Mason    actor   \n",
      "3157232  North by Northwest  1959   Jessie Royce Landis  actress   \n",
      "356707   North by Northwest  1959        Leo G. Carroll    actor   \n",
      "3048272  North by Northwest  1959  Josephine Hutchinson  actress   \n",
      "1695173  North by Northwest  1959           Philip Ober    actor   \n",
      "1275337  North by Northwest  1959         Martin Landau    actor   \n",
      "2447081  North by Northwest  1959         Adam Williams    actor   \n",
      "1811387  North by Northwest  1959          Edward Platt    actor   \n",
      "665768   North by Northwest  1959     Robert Ellenstein    actor   \n",
      "2295714  North by Northwest  1959          Les Tremayne    actor   \n",
      "464736   North by Northwest  1959       Philip Coolidge    actor   \n",
      "1508344  North by Northwest  1959         Patrick McVey    actor   \n",
      "206471   North by Northwest  1959          Edward Binns    actor   \n",
      "1384780  North by Northwest  1959             Ken Lynch    actor   \n",
      "\n",
      "                           character     n  \n",
      "871426            Roger O. Thornhill   1.0  \n",
      "3518333                  Eve Kendall   2.0  \n",
      "1457165              Phillip Vandamm   3.0  \n",
      "3157232              Clara Thornhill   4.0  \n",
      "356707                 The Professor   5.0  \n",
      "3048272                Mrs. Townsend   6.0  \n",
      "1695173              Lester Townsend   7.0  \n",
      "1275337                      Leonard   8.0  \n",
      "2447081                     Valerian   9.0  \n",
      "1811387              Victor Larrabee  10.0  \n",
      "665768                         Licht  11.0  \n",
      "2295714                   Auctioneer  12.0  \n",
      "464736                     Dr. Cross  13.0  \n",
      "1508344               Sergeant Flamm  14.0  \n",
      "206471                Captain Junket  15.0  \n",
      "1384780  Charley - Chicago Policeman  16.0  \n"
     ]
    }
   ],
   "source": [
    "import pandas as pd\n",
    "cast=pd.read_csv('C:/Users/PC/Downloads/cast.csv')\n",
    "W=cast.loc[cast['title']=='North by Northwest']\n",
    "count=W.sort_values(by=['n'])\n",
    "print(count.dropna())"
   ]
  },
  {
   "cell_type": "code",
   "execution_count": null,
   "metadata": {
    "collapsed": true
   },
   "outputs": [],
   "source": []
  },
  {
   "cell_type": "markdown",
   "metadata": {
    "collapsed": true
   },
   "source": [
    "### Display the entire cast, in \"n\"-order, of the 1972 film \"Sleuth\"."
   ]
  },
  {
   "cell_type": "code",
   "execution_count": 80,
   "metadata": {},
   "outputs": [
    {
     "name": "stdout",
     "output_type": "stream",
     "text": [
      "          title  year                name     type  \\\n",
      "1705394  Sleuth  1972    Laurence Olivier    actor   \n",
      "326773   Sleuth  1972       Michael Caine    actor   \n",
      "373876   Sleuth  1972      Alec Cawthorne    actor   \n",
      "1465483  Sleuth  1972  John (II) Matthews    actor   \n",
      "2724553  Sleuth  1972  Eve (III) Channing  actress   \n",
      "1448690  Sleuth  1972        Teddy Martin    actor   \n",
      "\n",
      "                          character    n  \n",
      "1705394                 Andrew Wyke  1.0  \n",
      "326773                  Milo Tindle  2.0  \n",
      "373876            Inspector Doppler  3.0  \n",
      "1465483  Detective Sergeant Tarrant  4.0  \n",
      "2724553             Marguerite Wyke  5.0  \n",
      "1448690      Police Constable Higgs  6.0  \n"
     ]
    }
   ],
   "source": [
    "import pandas as pd\n",
    "cast=pd.read_csv('C:/Users/PC/Downloads/cast.csv')\n",
    "S=cast.loc[cast['title']=='Sleuth'] \n",
    "P=S.loc[S['year']==1972]\n",
    "print(P.sort_values(by=['n']))\n"
   ]
  },
  {
   "cell_type": "code",
   "execution_count": null,
   "metadata": {
    "collapsed": true
   },
   "outputs": [],
   "source": []
  },
  {
   "cell_type": "markdown",
   "metadata": {
    "collapsed": true
   },
   "source": [
    "### Now display the entire cast, in \"n\"-order, of the 2007 version of \"Sleuth\"."
   ]
  },
  {
   "cell_type": "code",
   "execution_count": 81,
   "metadata": {},
   "outputs": [
    {
     "name": "stdout",
     "output_type": "stream",
     "text": [
      "          title  year                 name     type          character    n\n",
      "326774   Sleuth  2007        Michael Caine    actor             Andrew  1.0\n",
      "1293634  Sleuth  2007             Jude Law    actor               Milo  2.0\n",
      "1805907  Sleuth  2007        Harold Pinter    actor        Man on T.V.  3.0\n",
      "260242   Sleuth  2007      Kenneth Branagh    actor  Other Man on T.V.  NaN\n",
      "373877   Sleuth  2007  Alec (II) Cawthorne    actor  Inspector Doppler  NaN\n",
      "2724552  Sleuth  2007    Eve (II) Channing  actress    Marguerite Wyke  NaN\n",
      "3370424  Sleuth  2007    Carmel O'Sullivan  actress             Maggie  NaN\n"
     ]
    }
   ],
   "source": [
    "import pandas as pd\n",
    "cast=pd.read_csv('C:/Users/PC/Downloads/cast.csv')\n",
    "S=cast.loc[cast['title']=='Sleuth'] \n",
    "P=S.loc[S['year']==2007]\n",
    "print(P.sort_values(by=['n']))"
   ]
  },
  {
   "cell_type": "code",
   "execution_count": null,
   "metadata": {
    "collapsed": true
   },
   "outputs": [],
   "source": []
  },
  {
   "cell_type": "markdown",
   "metadata": {
    "collapsed": true
   },
   "source": [
    "### How many roles were credited in the silent 1921 version of Hamlet?"
   ]
  },
  {
   "cell_type": "code",
   "execution_count": 4,
   "metadata": {},
   "outputs": [
    {
     "name": "stdout",
     "output_type": "stream",
     "text": [
      "31943.0\n"
     ]
    }
   ],
   "source": [
    "import pandas as pd\n",
    "cast=pd.read_csv(\"C:/Users/PC/Downloads/cast.csv\")\n",
    "H=cast.loc[cast['title']=='Hamlet']\n",
    "Y=cast.loc[cast['year']==1921]\n",
    "total=Y['n'].sum()\n",
    "print(total)"
   ]
  },
  {
   "cell_type": "code",
   "execution_count": null,
   "metadata": {
    "collapsed": true
   },
   "outputs": [],
   "source": []
  },
  {
   "cell_type": "markdown",
   "metadata": {
    "collapsed": true
   },
   "source": [
    "### How many roles were credited in Branagh’s 1996 Hamlet?"
   ]
  },
  {
   "cell_type": "code",
   "execution_count": 5,
   "metadata": {},
   "outputs": [
    {
     "name": "stdout",
     "output_type": "stream",
     "text": [
      "31943.0\n"
     ]
    }
   ],
   "source": [
    "import pandas as pd\n",
    "cast=pd.read_csv(\"C:/Users/PC/Downloads/cast.csv\")\n",
    "H1=cast.loc[cast['title']=='Branagh']\n",
    "Y1=cast.loc[cast['year']==1996]\n",
    "total1=Y['n'].sum()\n",
    "print(total1)"
   ]
  },
  {
   "cell_type": "code",
   "execution_count": null,
   "metadata": {
    "collapsed": true
   },
   "outputs": [],
   "source": []
  },
  {
   "cell_type": "markdown",
   "metadata": {
    "collapsed": true
   },
   "source": [
    "### How many \"Hamlet\" roles have been listed in all film credits through history?"
   ]
  },
  {
   "cell_type": "code",
   "execution_count": 7,
   "metadata": {},
   "outputs": [
    {
     "name": "stdout",
     "output_type": "stream",
     "text": [
      "3308.0\n"
     ]
    }
   ],
   "source": [
    "import pandas as pd\n",
    "cast=pd.read_csv(\"C:/Users/PC/Downloads/cast.csv\")\n",
    "H=cast.loc[cast['title']=='Hamlet']\n",
    "total=H['n'].sum()\n",
    "print(total)"
   ]
  },
  {
   "cell_type": "code",
   "execution_count": null,
   "metadata": {
    "collapsed": true
   },
   "outputs": [],
   "source": []
  },
  {
   "cell_type": "markdown",
   "metadata": {
    "collapsed": true
   },
   "source": [
    "### How many people have played an \"Ophelia\"?"
   ]
  },
  {
   "cell_type": "code",
   "execution_count": 9,
   "metadata": {},
   "outputs": [
    {
     "name": "stdout",
     "output_type": "stream",
     "text": [
      "702\n"
     ]
    }
   ],
   "source": [
    "import pandas as pd\n",
    "cast=pd.read_csv(\"C:/Users/PC/Downloads/cast.csv\")\n",
    "O=cast.loc[cast['character']=='Ophelia']\n",
    "print(O.size)"
   ]
  },
  {
   "cell_type": "code",
   "execution_count": null,
   "metadata": {
    "collapsed": true
   },
   "outputs": [],
   "source": []
  },
  {
   "cell_type": "markdown",
   "metadata": {
    "collapsed": true
   },
   "source": [
    "### How many people have played a role called \"The Dude\"?"
   ]
  },
  {
   "cell_type": "code",
   "execution_count": 11,
   "metadata": {},
   "outputs": [
    {
     "name": "stdout",
     "output_type": "stream",
     "text": [
      "114\n"
     ]
    }
   ],
   "source": [
    "import pandas as pd\n",
    "cast=pd.read_csv(\"C:/Users/PC/Downloads/cast.csv\")\n",
    "D=cast.loc[cast['character']=='The Dude']\n",
    "print(D.size)"
   ]
  },
  {
   "cell_type": "code",
   "execution_count": null,
   "metadata": {
    "collapsed": true
   },
   "outputs": [],
   "source": []
  },
  {
   "cell_type": "markdown",
   "metadata": {
    "collapsed": true
   },
   "source": [
    "### How many people have played a role called \"The Stranger\"?"
   ]
  },
  {
   "cell_type": "code",
   "execution_count": 12,
   "metadata": {},
   "outputs": [
    {
     "name": "stdout",
     "output_type": "stream",
     "text": [
      "1272\n"
     ]
    }
   ],
   "source": [
    "import pandas as pd\n",
    "cast=pd.read_csv(\"C:/Users/PC/Downloads/cast.csv\")\n",
    "S=cast.loc[cast['character']=='The Stranger']\n",
    "print(S.size)"
   ]
  },
  {
   "cell_type": "code",
   "execution_count": null,
   "metadata": {
    "collapsed": true
   },
   "outputs": [],
   "source": []
  },
  {
   "cell_type": "markdown",
   "metadata": {
    "collapsed": true
   },
   "source": [
    "### How many roles has Sidney Poitier played throughout his career?"
   ]
  },
  {
   "cell_type": "code",
   "execution_count": 15,
   "metadata": {},
   "outputs": [
    {
     "name": "stdout",
     "output_type": "stream",
     "text": [
      "116.0\n"
     ]
    }
   ],
   "source": [
    "import pandas as pd\n",
    "cast=pd.read_csv(\"C:/Users/PC/Downloads/cast.csv\")\n",
    "P=cast.loc[cast['name']=='Sidney Poitier']\n",
    "print(P['n'].sum())"
   ]
  },
  {
   "cell_type": "code",
   "execution_count": null,
   "metadata": {
    "collapsed": true
   },
   "outputs": [],
   "source": []
  },
  {
   "cell_type": "markdown",
   "metadata": {
    "collapsed": true
   },
   "source": [
    "### How many roles has Judi Dench played?"
   ]
  },
  {
   "cell_type": "code",
   "execution_count": 16,
   "metadata": {},
   "outputs": [
    {
     "name": "stdout",
     "output_type": "stream",
     "text": [
      "450.0\n"
     ]
    }
   ],
   "source": [
    "import pandas as pd\n",
    "cast=pd.read_csv(\"C:/Users/PC/Downloads/cast.csv\")\n",
    "J=cast.loc[cast['name']=='Judi Dench']\n",
    "print(J['n'].sum())"
   ]
  },
  {
   "cell_type": "code",
   "execution_count": null,
   "metadata": {
    "collapsed": true
   },
   "outputs": [],
   "source": []
  },
  {
   "cell_type": "markdown",
   "metadata": {
    "collapsed": true
   },
   "source": [
    "### List the supporting roles (having n=2) played by Cary Grant in the 1940s, in order by year."
   ]
  },
  {
   "cell_type": "code",
   "execution_count": 31,
   "metadata": {},
   "outputs": [
    {
     "name": "stdout",
     "output_type": "stream",
     "text": [
      "                   title  year        name   type   character    n\n",
      "871423  My Favorite Wife  1940  Cary Grant  actor  Nick Arden  2.0\n"
     ]
    }
   ],
   "source": [
    "import pandas as pd\n",
    "cast=pd.read_csv(\"C:/Users/PC/Downloads/cast.csv\")\n",
    "C=cast.loc[cast['name']=='Cary Grant']\n",
    "year=C.loc[cast['year']==1940]\n",
    "a=year.loc[year['n']==2]\n",
    "print(a)"
   ]
  },
  {
   "cell_type": "code",
   "execution_count": null,
   "metadata": {
    "collapsed": true
   },
   "outputs": [],
   "source": []
  },
  {
   "cell_type": "markdown",
   "metadata": {
    "collapsed": true
   },
   "source": [
    "### List the leading roles that Cary Grant played in the 1940s in order by year."
   ]
  },
  {
   "cell_type": "code",
   "execution_count": 20,
   "metadata": {},
   "outputs": [
    {
     "name": "stdout",
     "output_type": "stream",
     "text": [
      "871407    1.0\n",
      "871423    2.0\n",
      "871448    1.0\n",
      "871450    1.0\n",
      "Name: n, dtype: float64\n"
     ]
    }
   ],
   "source": [
    "import pandas as pd\n",
    "cast=pd.read_csv(\"C:/Users/PC/Downloads/cast.csv\")\n",
    "C=cast.loc[cast['name']=='Cary Grant']\n",
    "year=C.loc[cast['year']==1940]\n",
    "print(year['n'])"
   ]
  },
  {
   "cell_type": "code",
   "execution_count": null,
   "metadata": {
    "collapsed": true
   },
   "outputs": [],
   "source": []
  },
  {
   "cell_type": "markdown",
   "metadata": {
    "collapsed": true
   },
   "source": [
    "### How many roles were available for actors in the 1950s?"
   ]
  },
  {
   "cell_type": "code",
   "execution_count": 30,
   "metadata": {},
   "outputs": [
    {
     "name": "stdout",
     "output_type": "stream",
     "text": [
      "871396    1.0\n",
      "Name: n, dtype: float64\n"
     ]
    }
   ],
   "source": [
    "import pandas as pd\n",
    "cast=pd.read_csv(\"C:/Users/PC/Downloads/cast.csv\")\n",
    "yer=C.loc[cast['year']==1950]\n",
    "act=yer.loc[yer['type']=='actor']\n",
    "print(act['n'])"
   ]
  },
  {
   "cell_type": "code",
   "execution_count": null,
   "metadata": {
    "collapsed": true
   },
   "outputs": [],
   "source": []
  },
  {
   "cell_type": "markdown",
   "metadata": {
    "collapsed": true
   },
   "source": [
    "### How many roles were available for actresses in the 1950s?"
   ]
  },
  {
   "cell_type": "code",
   "execution_count": 29,
   "metadata": {},
   "outputs": [
    {
     "name": "stdout",
     "output_type": "stream",
     "text": [
      "Series([], Name: n, dtype: float64)\n"
     ]
    }
   ],
   "source": [
    "import pandas as pd\n",
    "cast=pd.read_csv(\"C:/Users/PC/Downloads/cast.csv\")\n",
    "yr=C.loc[cast['year']==1950]\n",
    "ac=yr.loc[yr['type']=='actresses']\n",
    "print(ac['n'])"
   ]
  },
  {
   "cell_type": "code",
   "execution_count": null,
   "metadata": {
    "collapsed": true
   },
   "outputs": [],
   "source": []
  },
  {
   "cell_type": "markdown",
   "metadata": {
    "collapsed": true
   },
   "source": [
    "### How many leading roles (n=1) were available from the beginning of film history through 1980?"
   ]
  },
  {
   "cell_type": "code",
   "execution_count": 32,
   "metadata": {},
   "outputs": [
    {
     "name": "stdout",
     "output_type": "stream",
     "text": [
      "Empty DataFrame\n",
      "Columns: [title, year, name, type, character, n]\n",
      "Index: []\n"
     ]
    }
   ],
   "source": [
    "import pandas as pd\n",
    "cast=pd.read_csv(\"C:/Users/PC/Downloads/cast.csv\")\n",
    "r=C.loc[cast['year']==1980]\n",
    "d=r.loc[r['n']==1]\n",
    "print(d)"
   ]
  },
  {
   "cell_type": "code",
   "execution_count": null,
   "metadata": {
    "collapsed": true
   },
   "outputs": [],
   "source": []
  },
  {
   "cell_type": "markdown",
   "metadata": {
    "collapsed": true
   },
   "source": [
    "### How many non-leading roles were available through from the beginning of film history through 1980?"
   ]
  },
  {
   "cell_type": "code",
   "execution_count": null,
   "metadata": {
    "collapsed": true
   },
   "outputs": [],
   "source": []
  },
  {
   "cell_type": "code",
   "execution_count": null,
   "metadata": {
    "collapsed": true
   },
   "outputs": [],
   "source": []
  },
  {
   "cell_type": "markdown",
   "metadata": {
    "collapsed": true
   },
   "source": [
    "### How many roles through 1980 were minor enough that they did not warrant a numeric \"n\" rank?"
   ]
  },
  {
   "cell_type": "code",
   "execution_count": null,
   "metadata": {
    "collapsed": true
   },
   "outputs": [],
   "source": []
  },
  {
   "cell_type": "code",
   "execution_count": null,
   "metadata": {
    "collapsed": true
   },
   "outputs": [],
   "source": []
  }
 ],
 "metadata": {
  "kernelspec": {
   "display_name": "Python 3",
   "language": "python",
   "name": "python3"
  },
  "language_info": {
   "codemirror_mode": {
    "name": "ipython",
    "version": 3
   },
   "file_extension": ".py",
   "mimetype": "text/x-python",
   "name": "python",
   "nbconvert_exporter": "python",
   "pygments_lexer": "ipython3",
   "version": "3.8.3"
  }
 },
 "nbformat": 4,
 "nbformat_minor": 1
}
