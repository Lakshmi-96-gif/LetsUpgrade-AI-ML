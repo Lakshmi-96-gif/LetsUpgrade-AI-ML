{
 "cells": [
  {
   "cell_type": "code",
   "execution_count": 1,
   "metadata": {},
   "outputs": [
    {
     "name": "stdout",
     "output_type": "stream",
     "text": [
      "Divisible by 2: -2\n",
      "Divisible by 2: 2\n",
      "Divisible by 2: 14\n",
      "Divisible by 2: 34\n",
      "Divisible by 2: 62\n"
     ]
    }
   ],
   "source": [
    "x = range(10)\n",
    "for i in x:\n",
    "    if(i%2==0):\n",
    "        print(\"Divisible by 2:\", i*i-2)\n"
   ]
  },
  {
   "cell_type": "code",
   "execution_count": 2,
   "metadata": {},
   "outputs": [
    {
     "name": "stdout",
     "output_type": "stream",
     "text": [
      "Enter the start of range: 10\n",
      "Enter the end of range: 20\n",
      "10 12 14 16 18 20 "
     ]
    }
   ],
   "source": [
    "# Python program to print Even Numbers in given range \n",
    "\n",
    "m = int(input(\"Enter the start of range: \")) \n",
    "n = int(input(\"Enter the end of range: \")) \n",
    "\n",
    "# iterating each number in list \n",
    "for num in range(m, n + 1): \n",
    "    if(num % 2 == 0):\n",
    "        print(num, end = \" \") \n"
   ]
  },
  {
   "cell_type": "code",
   "execution_count": 5,
   "metadata": {},
   "outputs": [
    {
     "name": "stdout",
     "output_type": "stream",
     "text": [
      "Enter a string:mom\n",
      "The string is a palindrome\n"
     ]
    }
   ],
   "source": [
    "string=input((\"Enter a string:\"))\n",
    "if(string==string[::-1]):\n",
    "      print(\"The string is a palindrome\")\n",
    "else:\n",
    "      print(\"Not a palindrome\")"
   ]
  },
  {
   "cell_type": "code",
   "execution_count": 16,
   "metadata": {},
   "outputs": [
    {
     "name": "stdout",
     "output_type": "stream",
     "text": [
      " The lower case converted string is : python ai ml trainig\n",
      " The upper case converted string is : PYTHON AI ML TRAINIG\n",
      " The swap case converted string is : pYTHON ai ml tRAINIG\n",
      " The title case converted string is : Python Ai Ml Trainig\n",
      "ython\n",
      "Pyth\n",
      "ython AI ML Trainig\n",
      "Python AI ML Trainig\n",
      "Python AI ML Trainig\n",
      "giniarT LM IA nohtyP\n",
      "r\n"
     ]
    }
   ],
   "source": [
    "# Python code to demonstrate working of \n",
    "# upper(), lower(), swapcase() and title() \n",
    "str = \"Python AI ML Trainig\"\n",
    "\n",
    "# Coverting string into its lower case \n",
    "str1 = str.lower(); \n",
    "print (\" The lower case converted string is : \" + str1) \n",
    "\n",
    "# Coverting string into its upper case \n",
    "str2 = str.upper(); \n",
    "print (\" The upper case converted string is : \" + str2) \n",
    "\n",
    "# Coverting string into its swapped case \n",
    "str3 = str.swapcase(); \n",
    "print (\" The swap case converted string is : \" + str3) \n",
    "\n",
    "# Coverting string into its title case \n",
    "str4 = str.title(); \n",
    "print (\" The title case converted string is : \" + str4) \n",
    "\n",
    "print(str[1:6])\n",
    "print(str[:4])\n",
    "print(str[1:])\n",
    "print(str[:])\n",
    "print(str)\n",
    "print(str[::-1])\n",
    "print(str[-6])\n"
   ]
  },
  {
   "cell_type": "code",
   "execution_count": null,
   "metadata": {},
   "outputs": [],
   "source": []
  }
 ],
 "metadata": {
  "kernelspec": {
   "display_name": "Python 3",
   "language": "python",
   "name": "python3"
  },
  "language_info": {
   "codemirror_mode": {
    "name": "ipython",
    "version": 3
   },
   "file_extension": ".py",
   "mimetype": "text/x-python",
   "name": "python",
   "nbconvert_exporter": "python",
   "pygments_lexer": "ipython3",
   "version": "3.7.6"
  }
 },
 "nbformat": 4,
 "nbformat_minor": 4
}
